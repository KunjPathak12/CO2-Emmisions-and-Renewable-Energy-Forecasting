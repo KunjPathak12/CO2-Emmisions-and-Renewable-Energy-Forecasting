{
 "cells": [
  {
   "cell_type": "code",
   "execution_count": null,
   "metadata": {},
   "outputs": [],
   "source": [
    "import pandas as pd\n",
    "import warnings\n",
    "import matplotlib.pyplot as plt\n",
    "import numpy as np\n",
    "import seaborn as sns\n",
    "# configs\n",
    "warnings.filterwarnings('ignore')"
   ]
  },
  {
   "cell_type": "code",
   "execution_count": null,
   "metadata": {},
   "outputs": [],
   "source": [
    "data= pd.read_csv('global-data-on-sustainable-energy.csv')"
   ]
  },
  {
   "cell_type": "markdown",
   "metadata": {},
   "source": [
    "#### Data Quality Report"
   ]
  },
  {
   "cell_type": "markdown",
   "metadata": {},
   "source": [
    "##### Continuous features report "
   ]
  },
  {
   "cell_type": "code",
   "execution_count": null,
   "metadata": {},
   "outputs": [],
   "source": [
    "def build_continuous_features_report(data_df):\n",
    "\n",
    "    \"\"\"Build tabular report for continuous features\"\"\"\n",
    "\n",
    "    stats = {\n",
    "        \"Count\": len,\n",
    "        \"Miss %\": lambda df: df.isna().sum() / len(df) * 100,\n",
    "        \"Card.\": lambda df: df.nunique(),\n",
    "        \"Min\": lambda df: df.min(),\n",
    "        \"1st Qrt.\": lambda df: df.quantile(0.25),\n",
    "        \"Mean\": lambda df: df.mean(),\n",
    "        \"Median\": lambda df: df.median(),\n",
    "        \"3rd Qrt\": lambda df: df.quantile(0.75),\n",
    "        \"Max\": lambda df: df.max(),\n",
    "        \"Std. Dev.\": lambda df: df.std(),\n",
    "    }\n",
    "\n",
    "    contin_feat_names = data_df.select_dtypes(\"number\").columns\n",
    "    continuous_data_df = data_df[contin_feat_names]\n",
    "\n",
    "    report_df = pd.DataFrame(index=contin_feat_names, columns=stats.keys())\n",
    "\n",
    "    for stat_name, fn in stats.items():\n",
    "        # NOTE: ignore warnings for empty features\n",
    "        with warnings.catch_warnings():\n",
    "            warnings.simplefilter(\"ignore\", category=RuntimeWarning)\n",
    "            report_df[stat_name] = fn(continuous_data_df)\n",
    "\n",
    "    return report_df\n"
   ]
  },
  {
   "cell_type": "code",
   "execution_count": null,
   "metadata": {},
   "outputs": [],
   "source": [
    "# build continuous features report\n",
    "con_report_df = build_continuous_features_report(data)\n",
    "con_report_df"
   ]
  },
  {
   "cell_type": "code",
   "execution_count": null,
   "metadata": {},
   "outputs": [],
   "source": [
    "print(\"categorical features are :\")\n",
    "data.select_dtypes(exclude=\"number\").columns"
   ]
  },
  {
   "cell_type": "markdown",
   "metadata": {},
   "source": [
    "##### Categorical features Report"
   ]
  },
  {
   "cell_type": "code",
   "execution_count": null,
   "metadata": {},
   "outputs": [],
   "source": [
    "def build_categorical_features_report(data_df):\n",
    "\n",
    "    \"\"\"Build tabular report for categorical features\"\"\"\n",
    "\n",
    "    def _mode(df):\n",
    "        return df.apply(lambda ft: \",\".join(ft.mode().to_list()))\n",
    "\n",
    "    def _mode_freq(df):\n",
    "        return df.apply(lambda ft: ft.value_counts()[ft.mode()].sum())\n",
    "\n",
    "    def _second_mode(df):\n",
    "        return df.apply(lambda ft: \",\".join(ft[~ft.isin(ft.mode())].mode().to_list()))\n",
    "\n",
    "    def _second_mode_freq(df):\n",
    "        return df.apply(\n",
    "            lambda ft: ft[~ft.isin(ft.mode())]\n",
    "            .value_counts()[ft[~ft.isin(ft.mode())].mode()]\n",
    "            .sum()\n",
    "        )\n",
    "\n",
    "    stats = {\n",
    "        \"Count\": len,\n",
    "        \"Miss %\": lambda df: df.isna().sum() / len(df) * 100,\n",
    "        \"Card.\": lambda df: df.nunique(),\n",
    "        \"Mode\": _mode,\n",
    "        \"Mode Freq\": _mode_freq,\n",
    "        \"Mode %\": lambda df: _mode_freq(df) / len(df) * 100,\n",
    "        \"2nd Mode\": _second_mode,\n",
    "        \"2nd Mode Freq\": _second_mode_freq,\n",
    "        \"2nd Mode %\": lambda df: _second_mode_freq(df) / len(df) * 100,\n",
    "    }\n",
    "\n",
    "    cat_feat_names = data_df.select_dtypes(exclude=\"number\").columns\n",
    "    cat_data_df = data_df[cat_feat_names]\n",
    "\n",
    "    report_df = pd.DataFrame(index=cat_feat_names, columns=stats.keys())\n",
    "\n",
    "    for stat_name, fn in stats.items():\n",
    "        # NOTE: ignore warnings for empty features\n",
    "        with warnings.catch_warnings():\n",
    "            warnings.simplefilter(\"ignore\", category=RuntimeWarning)\n",
    "            report_df[stat_name] = fn(cat_data_df)\n",
    "\n",
    "    return report_df\n"
   ]
  },
  {
   "cell_type": "code",
   "execution_count": null,
   "metadata": {},
   "outputs": [],
   "source": [
    "# build categorical feature report\n",
    "cat_report_df = build_categorical_features_report(data)\n",
    "cat_report_df"
   ]
  },
  {
   "cell_type": "markdown",
   "metadata": {},
   "source": [
    "##### Checking duplicates"
   ]
  },
  {
   "cell_type": "code",
   "execution_count": null,
   "metadata": {},
   "outputs": [],
   "source": [
    "# Check for duplicate rows\n",
    "num_duplicates = data.duplicated().sum()\n",
    "print(\"Number of Duplicate Rows:\", num_duplicates)"
   ]
  },
  {
   "cell_type": "markdown",
   "metadata": {},
   "source": [
    "##### Checking outliers"
   ]
  },
  {
   "cell_type": "code",
   "execution_count": null,
   "metadata": {},
   "outputs": [],
   "source": [
    "def detect_outliers(col):\n",
    "    \"\"\"Detect outliers in a dataframe column\n",
    "\n",
    "    Args:\n",
    "        col (pd.Series): A dataframe column\n",
    "\n",
    "    Returns:\n",
    "        pd.Series: Outliers\n",
    "    \"\"\"\n",
    "    Q1 = np.percentile(col, 25)\n",
    "    Q3 = np.percentile(col, 75)\n",
    "    IQR = Q3 - Q1\n",
    "    outlier_step = IQR * 1.5\n",
    "\n",
    "    return col[(col < Q1 - outlier_step) | (col > Q3 + outlier_step)]\n"
   ]
  },
  {
   "cell_type": "code",
   "execution_count": null,
   "metadata": {},
   "outputs": [],
   "source": [
    "outliers_df = (\n",
    "    data.select_dtypes(\"number\")\n",
    "    .apply(lambda col: detect_outliers(col).size)\n",
    "    .rename(\"Num outliers\")\n",
    "    .to_frame()\n",
    ").query(\"`Num outliers` > 0\")\n",
    "\n",
    "outliers_df[\"Percent outliers\"] = outliers_df[\"Num outliers\"] / len(data) * 100\n",
    "outliers_df.sort_values(by=\"Percent outliers\", ascending=False)\n"
   ]
  },
  {
   "cell_type": "markdown",
   "metadata": {},
   "source": [
    "#### Data Quality Plan"
   ]
  },
  {
   "cell_type": "markdown",
   "metadata": {},
   "source": [
    "#### Data Preparation"
   ]
  },
  {
   "cell_type": "markdown",
   "metadata": {},
   "source": [
    "Convert the types to the desired ones"
   ]
  },
  {
   "cell_type": "code",
   "execution_count": null,
   "metadata": {},
   "outputs": [],
   "source": [
    "def remove_functuation(density):\n",
    "    return density.replace(',','')\n",
    "data['Entity']=data['Entity'].astype(str)\n",
    "data['Density\\\\n(P/Km2)']=data['Density\\\\n(P/Km2)'].astype(str)\n",
    "data['Density\\\\n(P/Km2)']=data['Density\\\\n(P/Km2)'].apply(remove_functuation)\n",
    "data['Density\\\\n(P/Km2)']=data['Density\\\\n(P/Km2)'].astype(float)"
   ]
  },
  {
   "cell_type": "markdown",
   "metadata": {},
   "source": [
    "##### Handling missing values"
   ]
  },
  {
   "cell_type": "code",
   "execution_count": null,
   "metadata": {},
   "outputs": [],
   "source": [
    "#Handling missing values in continuous features\n",
    "missing_con_cols = con_report_df.query(\"`Miss %` > 0.0\").index\n",
    "#print(missing_con_cols)\n",
    "feature_with_null=[column for column in missing_con_cols if column not in ['Year','Primary energy consumption per capita (kWh/person)']]\n",
    "#print(feature_with_null)\n",
    "# Replacing values with mean\n",
    "data.fillna(data[feature_with_null].mean(),inplace=True)"
   ]
  },
  {
   "cell_type": "code",
   "execution_count": null,
   "metadata": {},
   "outputs": [],
   "source": [
    "# Handling missing values in categorical features\n",
    "cat_missing = cat_report_df.query(\"`Miss %` > 0\").index\n",
    "\n",
    "\n",
    "cat_fillna_vals = data[cat_missing].mode().squeeze()\n",
    "data = data.fillna(cat_fillna_vals)"
   ]
  },
  {
   "cell_type": "code",
   "execution_count": null,
   "metadata": {},
   "outputs": [],
   "source": [
    "data.isna().sum()"
   ]
  },
  {
   "cell_type": "code",
   "execution_count": null,
   "metadata": {},
   "outputs": [],
   "source": [
    "data.isnull().sum()"
   ]
  },
  {
   "cell_type": "markdown",
   "metadata": {},
   "source": [
    "#### Handling Outliers"
   ]
  },
  {
   "cell_type": "markdown",
   "metadata": {},
   "source": []
  },
  {
   "cell_type": "markdown",
   "metadata": {},
   "source": [
    "##### Plot heatmap"
   ]
  },
  {
   "cell_type": "code",
   "execution_count": null,
   "metadata": {},
   "outputs": [],
   "source": []
  }
 ],
 "metadata": {
  "kernelspec": {
   "display_name": "wang",
   "language": "python",
   "name": "python3"
  },
  "language_info": {
   "codemirror_mode": {
    "name": "ipython",
    "version": 3
   },
   "file_extension": ".py",
   "mimetype": "text/x-python",
   "name": "python",
   "nbconvert_exporter": "python",
   "pygments_lexer": "ipython3",
   "version": "3.8.18"
  }
 },
 "nbformat": 4,
 "nbformat_minor": 2
}
