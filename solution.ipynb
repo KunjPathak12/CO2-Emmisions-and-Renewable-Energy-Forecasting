{
 "cells": [
  {
   "cell_type": "code",
   "execution_count": null,
   "metadata": {},
   "outputs": [],
   "source": [
    "import pandas as pd\n",
    "data= pd.read_csv('global-data-on-sustainable-energy.csv')\n",
    "missing_values = data.isnull().sum()\n",
    "length=len(data)\n",
    "missing_percentage = (missing_values / len(data)) * 100\n",
    "print(missing_values)\n"
   ]
  },
  {
   "cell_type": "code",
   "execution_count": null,
   "metadata": {},
   "outputs": [],
   "source": [
    "missing_percentage"
   ]
  },
  {
   "cell_type": "code",
   "execution_count": null,
   "metadata": {},
   "outputs": [],
   "source": [
    "data_types = data.dtypes\n",
    "print(data_types)"
   ]
  },
  {
   "cell_type": "code",
   "execution_count": null,
   "metadata": {},
   "outputs": [],
   "source": [
    "#https://stackoverflow.com/questions/18689823/pandas-dataframe-replace-nan-values-with-average-of-columns\n",
    "feature_with_high_null_rate=['gdp_growth','gdp_per_capita','Renewable-electricity-generating-capacity-per-capita','Financial flows to developing countries (US $)','Renewable energy share in the total final energy consumption (%)','Value_co2_emissions_kt_by_country','Renewables (% '+'equivalent primary energy)','Energy intensity level of primary energy (MJ/$2017 PPP GDP)']\n",
    "data.fillna(data[feature_with_high_null_rate].mean(),inplace=True)\n",
    "data.dropna(inplace=True)\n",
    "missing_values = data.isnull().sum()\n",
    "print(missing_values)"
   ]
  },
  {
   "cell_type": "code",
   "execution_count": null,
   "metadata": {},
   "outputs": [],
   "source": [
    "print((len(data)/length)*100)"
   ]
  }
 ],
 "metadata": {
  "kernelspec": {
   "display_name": "wang",
   "language": "python",
   "name": "python3"
  },
  "language_info": {
   "codemirror_mode": {
    "name": "ipython",
    "version": 3
   },
   "file_extension": ".py",
   "mimetype": "text/x-python",
   "name": "python",
   "nbconvert_exporter": "python",
   "pygments_lexer": "ipython3",
   "version": "3.8.18"
  }
 },
 "nbformat": 4,
 "nbformat_minor": 2
}
