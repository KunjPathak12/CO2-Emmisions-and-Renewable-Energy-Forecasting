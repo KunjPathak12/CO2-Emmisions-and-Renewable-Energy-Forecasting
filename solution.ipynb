{
  "cells": [
    {
      "cell_type": "code",
      "execution_count": 2,
      "metadata": {
        "colab": {
          "base_uri": "https://localhost:8080/"
        },
        "id": "Kw1fQX8Enllo",
        "outputId": "0e8ea2ee-c59b-46b4-b949-bff35be013d7"
      },
      "outputs": [
        {
          "name": "stdout",
          "output_type": "stream",
          "text": [
            "Missing values are  :Entity                                                                 0\n",
            "Year                                                                   0\n",
            "Access to electricity (% of population)                               10\n",
            "Access to clean fuels for cooking                                    169\n",
            "Renewable-electricity-generating-capacity-per-capita                 931\n",
            "Financial flows to developing countries (US $)                      2089\n",
            "Renewable energy share in the total final energy consumption (%)     194\n",
            "Electricity from fossil fuels (TWh)                                   21\n",
            "Electricity from nuclear (TWh)                                       126\n",
            "Electricity from renewables (TWh)                                     21\n",
            "Low-carbon electricity (% electricity)                                42\n",
            "Primary energy consumption per capita (kWh/person)                     0\n",
            "Energy intensity level of primary energy (MJ/$2017 PPP GDP)          207\n",
            "Value_co2_emissions_kt_by_country                                    428\n",
            "Renewables (% equivalent primary energy)                            2137\n",
            "gdp_growth                                                           317\n",
            "gdp_per_capita                                                       282\n",
            "Density\\n(P/Km2)                                                       1\n",
            "Land Area(Km2)                                                         1\n",
            "Latitude                                                               1\n",
            "Longitude                                                              1\n",
            "dtype: int64\n",
            "Missing percentages are :Entity                                                               0.000000\n",
            "Year                                                                 0.000000\n",
            "Access to electricity (% of population)                              0.274048\n",
            "Access to clean fuels for cooking                                    4.631406\n",
            "Renewable-electricity-generating-capacity-per-capita                25.513839\n",
            "Financial flows to developing countries (US $)                      57.248561\n",
            "Renewable energy share in the total final energy consumption (%)     5.316525\n",
            "Electricity from fossil fuels (TWh)                                  0.575500\n",
            "Electricity from nuclear (TWh)                                       3.453001\n",
            "Electricity from renewables (TWh)                                    0.575500\n",
            "Low-carbon electricity (% electricity)                               1.151000\n",
            "Primary energy consumption per capita (kWh/person)                   0.000000\n",
            "Energy intensity level of primary energy (MJ/$2017 PPP GDP)          5.672787\n",
            "Value_co2_emissions_kt_by_country                                   11.729241\n",
            "Renewables (% equivalent primary energy)                            58.563990\n",
            "gdp_growth                                                           8.687312\n",
            "gdp_per_capita                                                       7.728145\n",
            "Density\\n(P/Km2)                                                     0.027405\n",
            "Land Area(Km2)                                                       0.027405\n",
            "Latitude                                                             0.027405\n",
            "Longitude                                                            0.027405\n",
            "dtype: float64\n"
          ]
        }
      ],
      "source": [
        "import pandas as pd\n",
        "import numpy as np\n",
        "\n",
        "data= pd.read_csv('global-data-on-sustainable-energy.csv')\n",
        "missing_values = data.isnull().sum()\n",
        "length=len(data)\n",
        "missing_percentage = (missing_values / len(data)) * 100\n",
        "print(f\"Missing values are  :{missing_values}\")\n",
        "print(f\"Missing percentages are :{missing_percentage}\")"
      ]
    },
    {
      "cell_type": "code",
      "execution_count": 3,
      "metadata": {
        "colab": {
          "base_uri": "https://localhost:8080/"
        },
        "id": "Ta5rc3Er7GJs",
        "outputId": "45c069fb-9020-4484-c0fe-79cbd6e84eb5"
      },
      "outputs": [
        {
          "name": "stdout",
          "output_type": "stream",
          "text": [
            "Entity                                                               object\n",
            "Year                                                                  int64\n",
            "Access to electricity (% of population)                             float64\n",
            "Access to clean fuels for cooking                                   float64\n",
            "Renewable-electricity-generating-capacity-per-capita                float64\n",
            "Financial flows to developing countries (US $)                      float64\n",
            "Renewable energy share in the total final energy consumption (%)    float64\n",
            "Electricity from fossil fuels (TWh)                                 float64\n",
            "Electricity from nuclear (TWh)                                      float64\n",
            "Electricity from renewables (TWh)                                   float64\n",
            "Low-carbon electricity (% electricity)                              float64\n",
            "Primary energy consumption per capita (kWh/person)                  float64\n",
            "Energy intensity level of primary energy (MJ/$2017 PPP GDP)         float64\n",
            "Value_co2_emissions_kt_by_country                                   float64\n",
            "Renewables (% equivalent primary energy)                            float64\n",
            "gdp_growth                                                          float64\n",
            "gdp_per_capita                                                      float64\n",
            "Density\\n(P/Km2)                                                     object\n",
            "Land Area(Km2)                                                      float64\n",
            "Latitude                                                            float64\n",
            "Longitude                                                           float64\n",
            "dtype: object\n"
          ]
        }
      ],
      "source": [
        "data_types = data.dtypes\n",
        "print(data_types)"
      ]
    },
    {
      "cell_type": "code",
      "execution_count": 4,
      "metadata": {
        "colab": {
          "base_uri": "https://localhost:8080/"
        },
        "id": "5rVv33T6ns-3",
        "outputId": "516d7ada-1aba-42a1-c2a8-375a56e0c49a"
      },
      "outputs": [
        {
          "name": "stdout",
          "output_type": "stream",
          "text": [
            "Entity                                                               object\n",
            "Year                                                                  int64\n",
            "Access to electricity (% of population)                             float64\n",
            "Access to clean fuels for cooking                                   float64\n",
            "Renewable-electricity-generating-capacity-per-capita                float64\n",
            "Financial flows to developing countries (US $)                      float64\n",
            "Renewable energy share in the total final energy consumption (%)    float64\n",
            "Electricity from fossil fuels (TWh)                                 float64\n",
            "Electricity from nuclear (TWh)                                      float64\n",
            "Electricity from renewables (TWh)                                   float64\n",
            "Low-carbon electricity (% electricity)                              float64\n",
            "Primary energy consumption per capita (kWh/person)                  float64\n",
            "Energy intensity level of primary energy (MJ/$2017 PPP GDP)         float64\n",
            "Value_co2_emissions_kt_by_country                                   float64\n",
            "Renewables (% equivalent primary energy)                            float64\n",
            "gdp_growth                                                          float64\n",
            "gdp_per_capita                                                      float64\n",
            "Density\\n(P/Km2)                                                     object\n",
            "Land Area(Km2)                                                      float64\n",
            "Latitude                                                            float64\n",
            "Longitude                                                           float64\n",
            "dtype: object\n"
          ]
        }
      ],
      "source": [
        "data_types = data.dtypes\n",
        "print(data_types)"
      ]
    },
    {
      "cell_type": "code",
      "execution_count": 5,
      "metadata": {
        "id": "B5Ne2ZLIbqbh"
      },
      "outputs": [],
      "source": [
        "def remove_functuation(density):\n",
        "    return density.replace(',','')\n",
        "data['Entity']=data['Entity'].astype(str)\n",
        "data['Density\\\\n(P/Km2)']=data['Density\\\\n(P/Km2)'].astype(str)\n",
        "data['Density\\\\n(P/Km2)']=data['Density\\\\n(P/Km2)'].apply(remove_functuation)\n",
        "data['Density\\\\n(P/Km2)']=data['Density\\\\n(P/Km2)'].astype(float)"
      ]
    },
    {
      "cell_type": "code",
      "execution_count": 6,
      "metadata": {
        "id": "7-QQ5xH9RH1r"
      },
      "outputs": [],
      "source": [
        "# dropping ALbania as there is no good data available\n",
        "indices_to_drop = data[data['Entity'] == 'Albania'].index\n",
        "data.drop(indices_to_drop, inplace=True)"
      ]
    },
    {
      "cell_type": "code",
      "execution_count": 7,
      "metadata": {
        "colab": {
          "base_uri": "https://localhost:8080/"
        },
        "id": "CC_tgenQRH1r",
        "outputId": "1abf1ed5-7df8-4670-9278-87f031c7e5df"
      },
      "outputs": [
        {
          "data": {
            "text/plain": [
              "['Access to electricity (% of population)',\n",
              " 'Access to clean fuels for cooking',\n",
              " 'Renewable-electricity-generating-capacity-per-capita',\n",
              " 'Financial flows to developing countries (US $)',\n",
              " 'Renewable energy share in the total final energy consumption (%)',\n",
              " 'Electricity from fossil fuels (TWh)',\n",
              " 'Electricity from nuclear (TWh)',\n",
              " 'Electricity from renewables (TWh)',\n",
              " 'Low-carbon electricity (% electricity)',\n",
              " 'Energy intensity level of primary energy (MJ/$2017 PPP GDP)',\n",
              " 'Value_co2_emissions_kt_by_country',\n",
              " 'Renewables (% equivalent primary energy)',\n",
              " 'gdp_growth',\n",
              " 'gdp_per_capita',\n",
              " 'Density\\\\n(P/Km2)',\n",
              " 'Land Area(Km2)',\n",
              " 'Latitude',\n",
              " 'Longitude']"
            ]
          },
          "execution_count": 7,
          "metadata": {},
          "output_type": "execute_result"
        }
      ],
      "source": [
        "columns=data.columns.tolist()\n",
        "feature_with_null=[column for column in columns if column not in ['Entity','Year','Primary energy consumption per capita (kWh/person)']]\n",
        "feature_with_null"
      ]
    },
    {
      "cell_type": "code",
      "execution_count": 8,
      "metadata": {
        "id": "VuvaUHqQRH1r"
      },
      "outputs": [],
      "source": [
        "data.replace({None: np.nan}, inplace=True)\n",
        "\n",
        "columns=['Financial flows to developing countries (US $)','Renewable-electricity-generating-capacity-per-capita','Renewables (% equivalent primary energy)']\n",
        "data.drop(columns=columns,inplace=True)\n",
        "\n",
        "columns=data.columns.tolist()\n",
        "feature_with_null=[column for column in columns if column not in ['Entity','Year','Primary energy consumption per capita (kWh/person)']]\n",
        "\n",
        "for column in feature_with_null:\n",
        "    # Group by 'Country_Encoded' and calculate the mean for each group\n",
        "    means = data.groupby('Entity')[column].transform('mean')\n",
        "\n",
        "    # If the mean is NaN, replace it with the global mean of the column\n",
        "    global_mean = data[column].mean()\n",
        "    means_filled = means.fillna(global_mean)\n",
        "\n",
        "    # Fill the missing values with the calculated means\n",
        "    data[column] = data[column].fillna(means_filled)\n",
        "\n",
        "zero_columns=['Electricity from nuclear (TWh)','Electricity from renewables (TWh)','Low-carbon electricity (% electricity)']\n",
        "data.drop(columns=zero_columns,inplace=True, axis=1)\n",
        "\n",
        "\n"
      ]
    },
    {
      "cell_type": "code",
      "execution_count": 9,
      "metadata": {
        "colab": {
          "base_uri": "https://localhost:8080/"
        },
        "id": "W0rB9jD6RH1s",
        "outputId": "3bd8ba6a-35eb-433b-983b-a110da13fbcd"
      },
      "outputs": [
        {
          "name": "stdout",
          "output_type": "stream",
          "text": [
            "Entity                                                                0\n",
            "Year                                                                  0\n",
            "Access to electricity (% of population)                               0\n",
            "Access to clean fuels for cooking                                     8\n",
            "Renewable energy share in the total final energy consumption (%)     97\n",
            "Electricity from fossil fuels (TWh)                                 130\n",
            "Primary energy consumption per capita (kWh/person)                   21\n",
            "Energy intensity level of primary energy (MJ/$2017 PPP GDP)           0\n",
            "Value_co2_emissions_kt_by_country                                     0\n",
            "gdp_growth                                                            1\n",
            "gdp_per_capita                                                        0\n",
            "Density\\n(P/Km2)                                                      0\n",
            "Land Area(Km2)                                                        0\n",
            "Latitude                                                              0\n",
            "Longitude                                                             0\n",
            "dtype: int64\n"
          ]
        }
      ],
      "source": [
        "zero_counts=(data==0).sum()\n",
        "print(zero_counts)"
      ]
    },
    {
      "cell_type": "code",
      "execution_count": 10,
      "metadata": {
        "colab": {
          "base_uri": "https://localhost:8080/"
        },
        "id": "wuHTzF_CRH1s",
        "outputId": "1832aded-eba8-4741-ab87-50bb76b8f5c8"
      },
      "outputs": [
        {
          "name": "stdout",
          "output_type": "stream",
          "text": [
            "['Access to electricity (% of population)', 'Access to clean fuels for cooking', 'Renewable energy share in the total final energy consumption (%)', 'Electricity from fossil fuels (TWh)', 'Primary energy consumption per capita (kWh/person)', 'Energy intensity level of primary energy (MJ/$2017 PPP GDP)', 'Value_co2_emissions_kt_by_country', 'gdp_growth', 'gdp_per_capita', 'Density\\\\n(P/Km2)', 'Land Area(Km2)', 'Latitude', 'Longitude']\n"
          ]
        }
      ],
      "source": [
        "columns=data.columns.to_list()\n",
        "\n",
        "df=data\n",
        "\n",
        "def rmOutliers(df, columns):\n",
        "    for column in columns:\n",
        "        Q1 = df[column].quantile(0.25)\n",
        "        Q3 = df[column].quantile(0.75)\n",
        "        IQR = Q3 - Q1\n",
        "        lower_bound = Q1 - 1.5 * IQR\n",
        "        upper_bound = Q3 + 1.5 * IQR\n",
        "        df = df[(df[column] >= lower_bound) & (df[column] <= upper_bound)]\n",
        "    return df\n",
        "\n",
        "# List of columns to check for outliers\n",
        "columns_to_check = [\n",
        "    'Access to electricity (% of population)',\n",
        " 'Access to clean fuels for cooking',\n",
        " 'Renewable energy share in the total final energy consumption (%)',\n",
        " 'Electricity from fossil fuels (TWh)',\n",
        " 'Primary energy consumption per capita (kWh/person)',\n",
        " 'Energy intensity level of primary energy (MJ/$2017 PPP GDP)',\n",
        " 'Value_co2_emissions_kt_by_country',\n",
        " 'gdp_growth',\n",
        " 'gdp_per_capita',\n",
        " 'Density\\\\n(P/Km2)',\n",
        " 'Land Area(Km2)',\n",
        " 'Latitude',\n",
        " 'Longitude']\n",
        "\n",
        "print (columns_to_check)\n",
        "\n",
        "# Apply the function to each group of entities\n",
        "df_cleaned = df.groupby('Entity').apply(lambda x: rmOutliers(x, columns_to_check)).reset_index(drop=True)"
      ]
    },
    {
      "cell_type": "code",
      "execution_count": 11,
      "metadata": {
        "colab": {
          "base_uri": "https://localhost:8080/"
        },
        "id": "49HA0CzGRH1s",
        "outputId": "bc8b390b-53bd-467c-b5ed-b2518717b948"
      },
      "outputs": [
        {
          "name": "stdout",
          "output_type": "stream",
          "text": [
            "Total Outliers Removed considering for each country are:Entity                                                              792\n",
            "Year                                                                792\n",
            "Access to electricity (% of population)                             792\n",
            "Access to clean fuels for cooking                                   792\n",
            "Renewable energy share in the total final energy consumption (%)    792\n",
            "Electricity from fossil fuels (TWh)                                 792\n",
            "Primary energy consumption per capita (kWh/person)                  792\n",
            "Energy intensity level of primary energy (MJ/$2017 PPP GDP)         792\n",
            "Value_co2_emissions_kt_by_country                                   792\n",
            "gdp_growth                                                          792\n",
            "gdp_per_capita                                                      792\n",
            "Density\\n(P/Km2)                                                    792\n",
            "Land Area(Km2)                                                      792\n",
            "Latitude                                                            792\n",
            "Longitude                                                           792\n",
            "dtype: int64\n"
          ]
        }
      ],
      "source": [
        "data=df_cleaned\n",
        "print(f\"Total Outliers Removed considering for each country are:{df.count()-df_cleaned.count()}\")"
      ]
    },
    {
      "cell_type": "markdown",
      "metadata": {},
      "source": [
        "## data quality plan\n",
        "### Issues found:\n",
        "**High missing value rate**: Most columns have missing values. Columns like **Financial flows to developing countries (US $)** and **Renewables (% equivalent primary energy)** have missing rate over 50%.</p>\n",
        "**Type inconsistency**: Type of the columns like **Entity** and **Density\\n(P/Km2)** have type of Object. They should be string and float instead. And **Density\\n(P/Km2)** has commas in the value which makes it can not be processed directly.</p>\n",
        "**Outliers**: The dataset has outliers which can cause poor performance in model.\n",
        "### Solution\n",
        "We imputed the missing values with mean values. It won't be wise to drop because we will lose so  many data points. And for type conversion, **Entity** is converted to string. For **Density\\n(P/Km2)**, it was firstly converted to string to remove the commas. Then it is converted to float. As for outliers, we implemented a method to remove all values below lower bound and above the upper bound which were determined by Interquartile range of each column."
      ]
    },
    {
      "cell_type": "code",
      "execution_count": 12,
      "metadata": {
        "colab": {
          "base_uri": "https://localhost:8080/"
        },
        "id": "y3JK4n7URH1s",
        "outputId": "e60bc5d0-a108-4a20-d24c-4d16e22d9ef7"
      },
      "outputs": [
        {
          "name": "stdout",
          "output_type": "stream",
          "text": [
            "Below are the metrics for the target variable: Value_co2_emissions_kt_by_country\n",
            "Feature importances for Linear Regression are ['Entity', 'Year', 'Access to electricity (% of population)', 'Access to clean fuels for cooking', 'Electricity from fossil fuels (TWh)', 'Energy intensity level of primary energy (MJ/$2017 PPP GDP)', 'gdp_growth', 'Density\\\\n(P/Km2)', 'Latitude', 'Longitude']\n",
            "Model: Linear Regression\n",
            "Mean squared error is: 42353824007.1602\n",
            "Mean absolute error is: 59258.006875401596\n",
            "R2 score error is: 0.9573043498652017\n",
            "\n",
            "\n",
            "Feature importances for Decision Tree Regression are ['Entity', 'Year', 'Access to electricity (% of population)', 'Electricity from fossil fuels (TWh)', 'Primary energy consumption per capita (kWh/person)', 'Energy intensity level of primary energy (MJ/$2017 PPP GDP)', 'gdp_growth', 'gdp_per_capita', 'Land Area(Km2)', 'Longitude']\n",
            "Model: Decision Tree Regression\n",
            "Mean squared error is: 47533351744.33949\n",
            "Mean absolute error is: 18979.780632180547\n",
            "R2 score error is: 0.9058189456415784\n",
            "\n",
            "\n",
            "Model: Support Vector Regressor\n",
            "Mean squared error is: 912861040909.9241\n",
            "Mean absolute error is: 188455.44080261744\n",
            "R2 score error is: -0.0348872443484638\n",
            "\n",
            "\n",
            "Feature importances for Random Forest Regressor are ['Year', 'Access to clean fuels for cooking', 'Electricity from fossil fuels (TWh)', 'Primary energy consumption per capita (kWh/person)', 'Energy intensity level of primary energy (MJ/$2017 PPP GDP)', 'gdp_growth', 'gdp_per_capita', 'Density\\\\n(P/Km2)', 'Land Area(Km2)', 'Longitude', 'Entity']\n",
            "Model: Random Forest Regressor\n",
            "Mean squared error is: 384311923.1398985\n",
            "Mean absolute error is: 4574.407679853413\n",
            "R2 score error is: 0.9990801648009887\n",
            "\n",
            "\n",
            "Below are the metrics for the target variable: Renewable energy share in the total final energy consumption (%)\n",
            "Feature importances for Linear Regression are ['Entity', 'Year', 'Access to electricity (% of population)', 'Access to clean fuels for cooking', 'Electricity from fossil fuels (TWh)', 'Energy intensity level of primary energy (MJ/$2017 PPP GDP)', 'gdp_growth', 'Density\\\\n(P/Km2)', 'Latitude', 'Longitude']\n",
            "Model: Linear Regression\n",
            "Mean squared error is: 305.93531596093027\n",
            "Mean absolute error is: 13.130283233375733\n",
            "R2 score error is: 0.6486872231169052\n",
            "\n",
            "\n",
            "Feature importances for Decision Tree Regression are ['Entity', 'Access to electricity (% of population)', 'Access to clean fuels for cooking', 'Electricity from fossil fuels (TWh)', 'Primary energy consumption per capita (kWh/person)', 'Energy intensity level of primary energy (MJ/$2017 PPP GDP)', 'Density\\\\n(P/Km2)', 'Land Area(Km2)', 'Latitude', 'Longitude', 'Year']\n",
            "Model: Decision Tree Regression\n",
            "Mean squared error is: 26.78400276573728\n",
            "Mean absolute error is: 2.0105329476861167\n",
            "R2 score error is: 0.9724517520803275\n",
            "\n",
            "\n",
            "Model: Support Vector Regressor\n",
            "Mean squared error is: 883.9318954694895\n",
            "Mean absolute error is: 22.69802151475946\n",
            "R2 score error is: 0.009555024070780571\n",
            "\n",
            "\n",
            "Feature importances for Random Forest Regressor are ['Entity', 'Access to electricity (% of population)', 'Access to clean fuels for cooking', 'Electricity from fossil fuels (TWh)', 'Primary energy consumption per capita (kWh/person)', 'Energy intensity level of primary energy (MJ/$2017 PPP GDP)', 'Density\\\\n(P/Km2)', 'Land Area(Km2)', 'Latitude', 'Longitude', 'Year']\n",
            "Model: Random Forest Regressor\n",
            "Mean squared error is: 6.081541494634804\n",
            "Mean absolute error is: 1.4813148956237403\n",
            "R2 score error is: 0.993403614235489\n",
            "\n",
            "\n"
          ]
        }
      ],
      "source": [
        "from sklearn.feature_selection import RFE\n",
        "from sklearn.linear_model import LinearRegression\n",
        "from sklearn.preprocessing import StandardScaler, LabelEncoder\n",
        "from sklearn.tree import DecisionTreeRegressor\n",
        "from sklearn.svm import SVR\n",
        "from sklearn.ensemble import RandomForestRegressor\n",
        "from sklearn.model_selection import train_test_split\n",
        "from sklearn.metrics import mean_squared_error, mean_absolute_error, r2_score\n",
        "import pandas as pd\n",
        "import joblib\n",
        "\n",
        "\n",
        "label_encoder=LabelEncoder()\n",
        "data['Entity']=label_encoder.fit_transform(data['Entity'])\n",
        "\n",
        "target_variables = ['Value_co2_emissions_kt_by_country', 'Renewable energy share in the total final energy consumption (%)']\n",
        "\n",
        "models={\n",
        "    'Linear Regression':LinearRegression(),\n",
        "    'Decision Tree Regression': DecisionTreeRegressor(),\n",
        "    'Support Vector Regressor':SVR(),\n",
        "    'Random Forest Regressor':RandomForestRegressor()\n",
        "}\n",
        "\n",
        "def evaluate_model_with_base_parameters(data, models_dict):\n",
        "    random_forest_features = []\n",
        "    for i in range(len(target_variables)):\n",
        "        print(f\"Below are the metrics for the target variable: {target_variables[i]}\")\n",
        "        for name, model in models_dict.items():\n",
        "            if name == 'Support Vector Regressor':\n",
        "                # Skipping RFE for SVR as it does not have the feature_importances_ or coef_ attribute\n",
        "                correlation_matrix = data.select_dtypes(\"number\").corr()\n",
        "                target_features = correlation_matrix[target_variables[i]].drop(target_variables[i])\n",
        "                target_features = target_features[abs(target_features) > 0.3].index.tolist()\n",
        "                X = data.drop(columns=target_features)\n",
        "                y = data[target_variables[i]]\n",
        "                X_train, X_test, y_train, y_test = train_test_split(X, y, test_size=0.2)\n",
        "                model.fit(X_train, y_train)\n",
        "                y_pred = model.predict(X_test)\n",
        "\n",
        "            else:\n",
        "                # Applying RFE for other models\n",
        "                rfe = RFE(estimator=model, n_features_to_select=10)\n",
        "                X = data.drop(columns=target_variables)\n",
        "                y = data[target_variables[i]]\n",
        "                fit = rfe.fit(X, y)\n",
        "                feature_ranking = pd.DataFrame({'Feature': X.columns, 'Ranking': fit.ranking_}).sort_values(by='Ranking')\n",
        "                final_features = feature_ranking[feature_ranking['Ranking'] == 1]['Feature'].to_list()\n",
        "                if 'Entity'  not in final_features:\n",
        "                    final_features.append('Entity')\n",
        "                if 'Year' not in final_features:\n",
        "                  final_features.append('Year')\n",
        "                print(f\"Feature importances for {name} are {final_features}\")\n",
        "                X = X[final_features]\n",
        "                X_train, X_test, y_train, y_test = train_test_split(X, y, test_size=0.2)\n",
        "                model.fit(X_train, y_train)\n",
        "                if name == 'Random Forest Regressor':\n",
        "                    model_filename = f'Random forest regressor model for {target_variables[i]}'\n",
        "                    joblib.dump(model, model_filename)\n",
        "                    random_forest_features.append(final_features)  # Capture the features for Random Forest Regressor\n",
        "                y_pred = model.predict(X_test)\n",
        "\n",
        "            mse = mean_squared_error(y_test, y_pred)\n",
        "            mae = mean_absolute_error(y_test, y_pred)\n",
        "            r2 = r2_score(y_test, y_pred)\n",
        "\n",
        "            print(f\"Model: {name}\")\n",
        "            print(f\"Mean squared error is: {mse}\")\n",
        "            print(f\"Mean absolute error is: {mae}\")\n",
        "            print(f\"R2 score error is: {r2}\")\n",
        "            print(\"\\n\")\n",
        "\n",
        "    return random_forest_features\n",
        "\n",
        "\n",
        "random_forest_features=evaluate_model_with_base_parameters(data, models)\n"
      ]
    },
    {
      "cell_type": "code",
      "execution_count": 13,
      "metadata": {
        "colab": {
          "base_uri": "https://localhost:8080/"
        },
        "id": "_sQyi-q8RH1s",
        "outputId": "87e341b7-3922-4895-a9f2-41ee82cc87a8"
      },
      "outputs": [
        {
          "data": {
            "text/plain": [
              "[['Year',\n",
              "  'Access to clean fuels for cooking',\n",
              "  'Electricity from fossil fuels (TWh)',\n",
              "  'Primary energy consumption per capita (kWh/person)',\n",
              "  'Energy intensity level of primary energy (MJ/$2017 PPP GDP)',\n",
              "  'gdp_growth',\n",
              "  'gdp_per_capita',\n",
              "  'Density\\\\n(P/Km2)',\n",
              "  'Land Area(Km2)',\n",
              "  'Longitude',\n",
              "  'Entity'],\n",
              " ['Entity',\n",
              "  'Access to electricity (% of population)',\n",
              "  'Access to clean fuels for cooking',\n",
              "  'Electricity from fossil fuels (TWh)',\n",
              "  'Primary energy consumption per capita (kWh/person)',\n",
              "  'Energy intensity level of primary energy (MJ/$2017 PPP GDP)',\n",
              "  'Density\\\\n(P/Km2)',\n",
              "  'Land Area(Km2)',\n",
              "  'Latitude',\n",
              "  'Longitude',\n",
              "  'Year']]"
            ]
          },
          "execution_count": 13,
          "metadata": {},
          "output_type": "execute_result"
        }
      ],
      "source": [
        "random_forest_features"
      ]
    },
    {
      "cell_type": "code",
      "execution_count": 14,
      "metadata": {
        "colab": {
          "base_uri": "https://localhost:8080/"
        },
        "id": "oBmgpaieRH1t",
        "outputId": "7c205f65-bd8e-4022-96c2-748cce96035a"
      },
      "outputs": [
        {
          "name": "stdout",
          "output_type": "stream",
          "text": [
            "Requirement already satisfied: prophet in /usr/local/lib/python3.10/dist-packages (1.1.5)\n",
            "Requirement already satisfied: cmdstanpy>=1.0.4 in /usr/local/lib/python3.10/dist-packages (from prophet) (1.2.4)\n",
            "Requirement already satisfied: numpy>=1.15.4 in /usr/local/lib/python3.10/dist-packages (from prophet) (1.25.2)\n",
            "Requirement already satisfied: matplotlib>=2.0.0 in /usr/local/lib/python3.10/dist-packages (from prophet) (3.7.1)\n",
            "Requirement already satisfied: pandas>=1.0.4 in /usr/local/lib/python3.10/dist-packages (from prophet) (2.0.3)\n",
            "Requirement already satisfied: holidays>=0.25 in /usr/local/lib/python3.10/dist-packages (from prophet) (0.53)\n",
            "Requirement already satisfied: tqdm>=4.36.1 in /usr/local/lib/python3.10/dist-packages (from prophet) (4.66.4)\n",
            "Requirement already satisfied: importlib-resources in /usr/local/lib/python3.10/dist-packages (from prophet) (6.4.0)\n",
            "Requirement already satisfied: stanio<2.0.0,>=0.4.0 in /usr/local/lib/python3.10/dist-packages (from cmdstanpy>=1.0.4->prophet) (0.5.1)\n",
            "Requirement already satisfied: python-dateutil in /usr/local/lib/python3.10/dist-packages (from holidays>=0.25->prophet) (2.8.2)\n",
            "Requirement already satisfied: contourpy>=1.0.1 in /usr/local/lib/python3.10/dist-packages (from matplotlib>=2.0.0->prophet) (1.2.1)\n",
            "Requirement already satisfied: cycler>=0.10 in /usr/local/lib/python3.10/dist-packages (from matplotlib>=2.0.0->prophet) (0.12.1)\n",
            "Requirement already satisfied: fonttools>=4.22.0 in /usr/local/lib/python3.10/dist-packages (from matplotlib>=2.0.0->prophet) (4.53.1)\n",
            "Requirement already satisfied: kiwisolver>=1.0.1 in /usr/local/lib/python3.10/dist-packages (from matplotlib>=2.0.0->prophet) (1.4.5)\n",
            "Requirement already satisfied: packaging>=20.0 in /usr/local/lib/python3.10/dist-packages (from matplotlib>=2.0.0->prophet) (24.1)\n",
            "Requirement already satisfied: pillow>=6.2.0 in /usr/local/lib/python3.10/dist-packages (from matplotlib>=2.0.0->prophet) (9.4.0)\n",
            "Requirement already satisfied: pyparsing>=2.3.1 in /usr/local/lib/python3.10/dist-packages (from matplotlib>=2.0.0->prophet) (3.1.2)\n",
            "Requirement already satisfied: pytz>=2020.1 in /usr/local/lib/python3.10/dist-packages (from pandas>=1.0.4->prophet) (2023.4)\n",
            "Requirement already satisfied: tzdata>=2022.1 in /usr/local/lib/python3.10/dist-packages (from pandas>=1.0.4->prophet) (2024.1)\n",
            "Requirement already satisfied: six>=1.5 in /usr/local/lib/python3.10/dist-packages (from python-dateutil->holidays>=0.25->prophet) (1.16.0)\n"
          ]
        }
      ],
      "source": [
        "!pip install prophet"
      ]
    },
    {
      "cell_type": "code",
      "execution_count": 15,
      "metadata": {
        "id": "CgNbIPrzRH1t"
      },
      "outputs": [],
      "source": [
        "# doing the time series forecasting\n",
        "\n",
        "from prophet import Prophet"
      ]
    },
    {
      "cell_type": "code",
      "execution_count": 16,
      "metadata": {
        "colab": {
          "base_uri": "https://localhost:8080/",
          "height": 365
        },
        "id": "fA0a0wkfRH1t",
        "outputId": "52832c8c-969f-4eb6-bdca-6921b9657047"
      },
      "outputs": [
        {
          "name": "stdout",
          "output_type": "stream",
          "text": [
            "0\n"
          ]
        },
        {
          "data": {
            "application/vnd.google.colaboratory.intrinsic+json": {
              "summary": "{\n  \"name\": \"data\",\n  \"rows\": 2836,\n  \"fields\": [\n    {\n      \"column\": \"Entity\",\n      \"properties\": {\n        \"dtype\": \"number\",\n        \"std\": 50,\n        \"min\": 0,\n        \"max\": 174,\n        \"num_unique_values\": 175,\n        \"samples\": [\n          156,\n          145,\n          101\n        ],\n        \"semantic_type\": \"\",\n        \"description\": \"\"\n      }\n    },\n    {\n      \"column\": \"Year\",\n      \"properties\": {\n        \"dtype\": \"number\",\n        \"std\": 5,\n        \"min\": 2000,\n        \"max\": 2020,\n        \"num_unique_values\": 21,\n        \"samples\": [\n          2000,\n          2009,\n          2006\n        ],\n        \"semantic_type\": \"\",\n        \"description\": \"\"\n      }\n    },\n    {\n      \"column\": \"Access to electricity (% of population)\",\n      \"properties\": {\n        \"dtype\": \"number\",\n        \"std\": 30.442852838713616,\n        \"min\": 1.2522693,\n        \"max\": 100.0,\n        \"num_unique_values\": 1600,\n        \"samples\": [\n          91.07083,\n          98.24978,\n          56.018814\n        ],\n        \"semantic_type\": \"\",\n        \"description\": \"\"\n      }\n    },\n    {\n      \"column\": \"Access to clean fuels for cooking\",\n      \"properties\": {\n        \"dtype\": \"number\",\n        \"std\": 38.31338381845002,\n        \"min\": 0.0,\n        \"max\": 100.0,\n        \"num_unique_values\": 783,\n        \"samples\": [\n          29.0,\n          6.9,\n          25.5\n        ],\n        \"semantic_type\": \"\",\n        \"description\": \"\"\n      }\n    },\n    {\n      \"column\": \"Renewable energy share in the total final energy consumption (%)\",\n      \"properties\": {\n        \"dtype\": \"number\",\n        \"std\": 29.620615224415985,\n        \"min\": 0.0,\n        \"max\": 96.04,\n        \"num_unique_values\": 2210,\n        \"samples\": [\n          62.86,\n          31.02,\n          79.57\n        ],\n        \"semantic_type\": \"\",\n        \"description\": \"\"\n      }\n    },\n    {\n      \"column\": \"Electricity from fossil fuels (TWh)\",\n      \"properties\": {\n        \"dtype\": \"number\",\n        \"std\": 377.08482638285955,\n        \"min\": 0.0,\n        \"max\": 5184.13,\n        \"num_unique_values\": 1559,\n        \"samples\": [\n          2540.17,\n          46.48,\n          130.08\n        ],\n        \"semantic_type\": \"\",\n        \"description\": \"\"\n      }\n    },\n    {\n      \"column\": \"Primary energy consumption per capita (kWh/person)\",\n      \"properties\": {\n        \"dtype\": \"number\",\n        \"std\": 35544.97917933282,\n        \"min\": 0.0,\n        \"max\": 262585.7,\n        \"num_unique_values\": 2826,\n        \"samples\": [\n          29436.242,\n          2429.8928,\n          14617.907\n        ],\n        \"semantic_type\": \"\",\n        \"description\": \"\"\n      }\n    },\n    {\n      \"column\": \"Energy intensity level of primary energy (MJ/$2017 PPP GDP)\",\n      \"properties\": {\n        \"dtype\": \"number\",\n        \"std\": 3.6213290486901344,\n        \"min\": 0.18,\n        \"max\": 32.57,\n        \"num_unique_values\": 985,\n        \"samples\": [\n          5.07,\n          3.2479999999999998,\n          12.66\n        ],\n        \"semantic_type\": \"\",\n        \"description\": \"\"\n      }\n    },\n    {\n      \"column\": \"Value_co2_emissions_kt_by_country\",\n      \"properties\": {\n        \"dtype\": \"number\",\n        \"std\": 810416.8490632453,\n        \"min\": 9.999999776,\n        \"max\": 10707219.73,\n        \"num_unique_values\": 2068,\n        \"samples\": [\n          268920.0134,\n          167229.9957,\n          27159.99985\n        ],\n        \"semantic_type\": \"\",\n        \"description\": \"\"\n      }\n    },\n    {\n      \"column\": \"gdp_growth\",\n      \"properties\": {\n        \"dtype\": \"number\",\n        \"std\": 3.415218721453922,\n        \"min\": -17.66894629,\n        \"max\": 19.67532314,\n        \"num_unique_values\": 2571,\n        \"samples\": [\n          -4.486599314,\n          5.540448674,\n          -3.844129949\n        ],\n        \"semantic_type\": \"\",\n        \"description\": \"\"\n      }\n    },\n    {\n      \"column\": \"gdp_per_capita\",\n      \"properties\": {\n        \"dtype\": \"number\",\n        \"std\": 18723.489192466262,\n        \"min\": 113.5672513,\n        \"max\": 123514.1967,\n        \"num_unique_values\": 2606,\n        \"samples\": [\n          4168.489403,\n          4039.159341,\n          13762.37286\n        ],\n        \"semantic_type\": \"\",\n        \"description\": \"\"\n      }\n    },\n    {\n      \"column\": \"Density\\\\n(P/Km2)\",\n      \"properties\": {\n        \"dtype\": \"number\",\n        \"std\": 644.1492147569651,\n        \"min\": 2.0,\n        \"max\": 8358.0,\n        \"num_unique_values\": 124,\n        \"samples\": [\n          20.0,\n          103.0,\n          136.0\n        ],\n        \"semantic_type\": \"\",\n        \"description\": \"\"\n      }\n    },\n    {\n      \"column\": \"Land Area(Km2)\",\n      \"properties\": {\n        \"dtype\": \"number\",\n        \"std\": 1620112.40461984,\n        \"min\": 21.0,\n        \"max\": 9984670.0,\n        \"num_unique_values\": 175,\n        \"samples\": [\n          513120.0,\n          28896.0,\n          2040.0\n        ],\n        \"semantic_type\": \"\",\n        \"description\": \"\"\n      }\n    },\n    {\n      \"column\": \"Latitude\",\n      \"properties\": {\n        \"dtype\": \"number\",\n        \"std\": 24.706938212308817,\n        \"min\": -40.900557,\n        \"max\": 64.963051,\n        \"num_unique_values\": 175,\n        \"samples\": [\n          15.870032,\n          -9.64571,\n          -20.348404\n        ],\n        \"semantic_type\": \"\",\n        \"description\": \"\"\n      }\n    },\n    {\n      \"column\": \"Longitude\",\n      \"properties\": {\n        \"dtype\": \"number\",\n        \"std\": 65.52409847223916,\n        \"min\": -175.198242,\n        \"max\": 178.065032,\n        \"num_unique_values\": 175,\n        \"samples\": [\n          100.992541,\n          160.156194,\n          57.552152\n        ],\n        \"semantic_type\": \"\",\n        \"description\": \"\"\n      }\n    },\n    {\n      \"column\": \"Country_Decoded\",\n      \"properties\": {\n        \"dtype\": \"category\",\n        \"num_unique_values\": 175,\n        \"samples\": [\n          \"Thailand\",\n          \"Solomon Islands\",\n          \"Mauritius\"\n        ],\n        \"semantic_type\": \"\",\n        \"description\": \"\"\n      }\n    }\n  ]\n}",
              "type": "dataframe",
              "variable_name": "data"
            },
            "text/html": [
              "\n",
              "  <div id=\"df-6e9a0304-0f4c-44d7-802c-527101efd65e\" class=\"colab-df-container\">\n",
              "    <div>\n",
              "<style scoped>\n",
              "    .dataframe tbody tr th:only-of-type {\n",
              "        vertical-align: middle;\n",
              "    }\n",
              "\n",
              "    .dataframe tbody tr th {\n",
              "        vertical-align: top;\n",
              "    }\n",
              "\n",
              "    .dataframe thead th {\n",
              "        text-align: right;\n",
              "    }\n",
              "</style>\n",
              "<table border=\"1\" class=\"dataframe\">\n",
              "  <thead>\n",
              "    <tr style=\"text-align: right;\">\n",
              "      <th></th>\n",
              "      <th>Entity</th>\n",
              "      <th>Year</th>\n",
              "      <th>Access to electricity (% of population)</th>\n",
              "      <th>Access to clean fuels for cooking</th>\n",
              "      <th>Renewable energy share in the total final energy consumption (%)</th>\n",
              "      <th>Electricity from fossil fuels (TWh)</th>\n",
              "      <th>Primary energy consumption per capita (kWh/person)</th>\n",
              "      <th>Energy intensity level of primary energy (MJ/$2017 PPP GDP)</th>\n",
              "      <th>Value_co2_emissions_kt_by_country</th>\n",
              "      <th>gdp_growth</th>\n",
              "      <th>gdp_per_capita</th>\n",
              "      <th>Density\\n(P/Km2)</th>\n",
              "      <th>Land Area(Km2)</th>\n",
              "      <th>Latitude</th>\n",
              "      <th>Longitude</th>\n",
              "      <th>Country_Decoded</th>\n",
              "    </tr>\n",
              "  </thead>\n",
              "  <tbody>\n",
              "    <tr>\n",
              "      <th>0</th>\n",
              "      <td>0</td>\n",
              "      <td>2000</td>\n",
              "      <td>1.613591</td>\n",
              "      <td>6.2</td>\n",
              "      <td>44.99</td>\n",
              "      <td>0.16</td>\n",
              "      <td>302.59482</td>\n",
              "      <td>1.64</td>\n",
              "      <td>760.000000</td>\n",
              "      <td>6.163893</td>\n",
              "      <td>439.055765</td>\n",
              "      <td>60.0</td>\n",
              "      <td>652230.0</td>\n",
              "      <td>33.93911</td>\n",
              "      <td>67.709953</td>\n",
              "      <td>Afghanistan</td>\n",
              "    </tr>\n",
              "    <tr>\n",
              "      <th>1</th>\n",
              "      <td>0</td>\n",
              "      <td>2001</td>\n",
              "      <td>4.074574</td>\n",
              "      <td>7.2</td>\n",
              "      <td>45.60</td>\n",
              "      <td>0.09</td>\n",
              "      <td>236.89185</td>\n",
              "      <td>1.74</td>\n",
              "      <td>730.000000</td>\n",
              "      <td>6.163893</td>\n",
              "      <td>439.055765</td>\n",
              "      <td>60.0</td>\n",
              "      <td>652230.0</td>\n",
              "      <td>33.93911</td>\n",
              "      <td>67.709953</td>\n",
              "      <td>Afghanistan</td>\n",
              "    </tr>\n",
              "    <tr>\n",
              "      <th>2</th>\n",
              "      <td>0</td>\n",
              "      <td>2008</td>\n",
              "      <td>42.400000</td>\n",
              "      <td>16.7</td>\n",
              "      <td>21.17</td>\n",
              "      <td>0.19</td>\n",
              "      <td>607.83350</td>\n",
              "      <td>1.94</td>\n",
              "      <td>3559.999943</td>\n",
              "      <td>3.924984</td>\n",
              "      <td>364.663542</td>\n",
              "      <td>60.0</td>\n",
              "      <td>652230.0</td>\n",
              "      <td>33.93911</td>\n",
              "      <td>67.709953</td>\n",
              "      <td>Afghanistan</td>\n",
              "    </tr>\n",
              "    <tr>\n",
              "      <th>3</th>\n",
              "      <td>0</td>\n",
              "      <td>2011</td>\n",
              "      <td>43.222020</td>\n",
              "      <td>21.8</td>\n",
              "      <td>12.61</td>\n",
              "      <td>0.18</td>\n",
              "      <td>1436.11430</td>\n",
              "      <td>3.23</td>\n",
              "      <td>8930.000305</td>\n",
              "      <td>0.426355</td>\n",
              "      <td>591.190030</td>\n",
              "      <td>60.0</td>\n",
              "      <td>652230.0</td>\n",
              "      <td>33.93911</td>\n",
              "      <td>67.709953</td>\n",
              "      <td>Afghanistan</td>\n",
              "    </tr>\n",
              "    <tr>\n",
              "      <th>4</th>\n",
              "      <td>0</td>\n",
              "      <td>2013</td>\n",
              "      <td>68.290650</td>\n",
              "      <td>24.8</td>\n",
              "      <td>16.86</td>\n",
              "      <td>0.22</td>\n",
              "      <td>1060.79260</td>\n",
              "      <td>2.46</td>\n",
              "      <td>5989.999771</td>\n",
              "      <td>5.600745</td>\n",
              "      <td>624.315454</td>\n",
              "      <td>60.0</td>\n",
              "      <td>652230.0</td>\n",
              "      <td>33.93911</td>\n",
              "      <td>67.709953</td>\n",
              "      <td>Afghanistan</td>\n",
              "    </tr>\n",
              "  </tbody>\n",
              "</table>\n",
              "</div>\n",
              "    <div class=\"colab-df-buttons\">\n",
              "\n",
              "  <div class=\"colab-df-container\">\n",
              "    <button class=\"colab-df-convert\" onclick=\"convertToInteractive('df-6e9a0304-0f4c-44d7-802c-527101efd65e')\"\n",
              "            title=\"Convert this dataframe to an interactive table.\"\n",
              "            style=\"display:none;\">\n",
              "\n",
              "  <svg xmlns=\"http://www.w3.org/2000/svg\" height=\"24px\" viewBox=\"0 -960 960 960\">\n",
              "    <path d=\"M120-120v-720h720v720H120Zm60-500h600v-160H180v160Zm220 220h160v-160H400v160Zm0 220h160v-160H400v160ZM180-400h160v-160H180v160Zm440 0h160v-160H620v160ZM180-180h160v-160H180v160Zm440 0h160v-160H620v160Z\"/>\n",
              "  </svg>\n",
              "    </button>\n",
              "\n",
              "  <style>\n",
              "    .colab-df-container {\n",
              "      display:flex;\n",
              "      gap: 12px;\n",
              "    }\n",
              "\n",
              "    .colab-df-convert {\n",
              "      background-color: #E8F0FE;\n",
              "      border: none;\n",
              "      border-radius: 50%;\n",
              "      cursor: pointer;\n",
              "      display: none;\n",
              "      fill: #1967D2;\n",
              "      height: 32px;\n",
              "      padding: 0 0 0 0;\n",
              "      width: 32px;\n",
              "    }\n",
              "\n",
              "    .colab-df-convert:hover {\n",
              "      background-color: #E2EBFA;\n",
              "      box-shadow: 0px 1px 2px rgba(60, 64, 67, 0.3), 0px 1px 3px 1px rgba(60, 64, 67, 0.15);\n",
              "      fill: #174EA6;\n",
              "    }\n",
              "\n",
              "    .colab-df-buttons div {\n",
              "      margin-bottom: 4px;\n",
              "    }\n",
              "\n",
              "    [theme=dark] .colab-df-convert {\n",
              "      background-color: #3B4455;\n",
              "      fill: #D2E3FC;\n",
              "    }\n",
              "\n",
              "    [theme=dark] .colab-df-convert:hover {\n",
              "      background-color: #434B5C;\n",
              "      box-shadow: 0px 1px 3px 1px rgba(0, 0, 0, 0.15);\n",
              "      filter: drop-shadow(0px 1px 2px rgba(0, 0, 0, 0.3));\n",
              "      fill: #FFFFFF;\n",
              "    }\n",
              "  </style>\n",
              "\n",
              "    <script>\n",
              "      const buttonEl =\n",
              "        document.querySelector('#df-6e9a0304-0f4c-44d7-802c-527101efd65e button.colab-df-convert');\n",
              "      buttonEl.style.display =\n",
              "        google.colab.kernel.accessAllowed ? 'block' : 'none';\n",
              "\n",
              "      async function convertToInteractive(key) {\n",
              "        const element = document.querySelector('#df-6e9a0304-0f4c-44d7-802c-527101efd65e');\n",
              "        const dataTable =\n",
              "          await google.colab.kernel.invokeFunction('convertToInteractive',\n",
              "                                                    [key], {});\n",
              "        if (!dataTable) return;\n",
              "\n",
              "        const docLinkHtml = 'Like what you see? Visit the ' +\n",
              "          '<a target=\"_blank\" href=https://colab.research.google.com/notebooks/data_table.ipynb>data table notebook</a>'\n",
              "          + ' to learn more about interactive tables.';\n",
              "        element.innerHTML = '';\n",
              "        dataTable['output_type'] = 'display_data';\n",
              "        await google.colab.output.renderOutput(dataTable, element);\n",
              "        const docLink = document.createElement('div');\n",
              "        docLink.innerHTML = docLinkHtml;\n",
              "        element.appendChild(docLink);\n",
              "      }\n",
              "    </script>\n",
              "  </div>\n",
              "\n",
              "\n",
              "<div id=\"df-46433bef-6eb0-4132-9d2f-b378444ad4e8\">\n",
              "  <button class=\"colab-df-quickchart\" onclick=\"quickchart('df-46433bef-6eb0-4132-9d2f-b378444ad4e8')\"\n",
              "            title=\"Suggest charts\"\n",
              "            style=\"display:none;\">\n",
              "\n",
              "<svg xmlns=\"http://www.w3.org/2000/svg\" height=\"24px\"viewBox=\"0 0 24 24\"\n",
              "     width=\"24px\">\n",
              "    <g>\n",
              "        <path d=\"M19 3H5c-1.1 0-2 .9-2 2v14c0 1.1.9 2 2 2h14c1.1 0 2-.9 2-2V5c0-1.1-.9-2-2-2zM9 17H7v-7h2v7zm4 0h-2V7h2v10zm4 0h-2v-4h2v4z\"/>\n",
              "    </g>\n",
              "</svg>\n",
              "  </button>\n",
              "\n",
              "<style>\n",
              "  .colab-df-quickchart {\n",
              "      --bg-color: #E8F0FE;\n",
              "      --fill-color: #1967D2;\n",
              "      --hover-bg-color: #E2EBFA;\n",
              "      --hover-fill-color: #174EA6;\n",
              "      --disabled-fill-color: #AAA;\n",
              "      --disabled-bg-color: #DDD;\n",
              "  }\n",
              "\n",
              "  [theme=dark] .colab-df-quickchart {\n",
              "      --bg-color: #3B4455;\n",
              "      --fill-color: #D2E3FC;\n",
              "      --hover-bg-color: #434B5C;\n",
              "      --hover-fill-color: #FFFFFF;\n",
              "      --disabled-bg-color: #3B4455;\n",
              "      --disabled-fill-color: #666;\n",
              "  }\n",
              "\n",
              "  .colab-df-quickchart {\n",
              "    background-color: var(--bg-color);\n",
              "    border: none;\n",
              "    border-radius: 50%;\n",
              "    cursor: pointer;\n",
              "    display: none;\n",
              "    fill: var(--fill-color);\n",
              "    height: 32px;\n",
              "    padding: 0;\n",
              "    width: 32px;\n",
              "  }\n",
              "\n",
              "  .colab-df-quickchart:hover {\n",
              "    background-color: var(--hover-bg-color);\n",
              "    box-shadow: 0 1px 2px rgba(60, 64, 67, 0.3), 0 1px 3px 1px rgba(60, 64, 67, 0.15);\n",
              "    fill: var(--button-hover-fill-color);\n",
              "  }\n",
              "\n",
              "  .colab-df-quickchart-complete:disabled,\n",
              "  .colab-df-quickchart-complete:disabled:hover {\n",
              "    background-color: var(--disabled-bg-color);\n",
              "    fill: var(--disabled-fill-color);\n",
              "    box-shadow: none;\n",
              "  }\n",
              "\n",
              "  .colab-df-spinner {\n",
              "    border: 2px solid var(--fill-color);\n",
              "    border-color: transparent;\n",
              "    border-bottom-color: var(--fill-color);\n",
              "    animation:\n",
              "      spin 1s steps(1) infinite;\n",
              "  }\n",
              "\n",
              "  @keyframes spin {\n",
              "    0% {\n",
              "      border-color: transparent;\n",
              "      border-bottom-color: var(--fill-color);\n",
              "      border-left-color: var(--fill-color);\n",
              "    }\n",
              "    20% {\n",
              "      border-color: transparent;\n",
              "      border-left-color: var(--fill-color);\n",
              "      border-top-color: var(--fill-color);\n",
              "    }\n",
              "    30% {\n",
              "      border-color: transparent;\n",
              "      border-left-color: var(--fill-color);\n",
              "      border-top-color: var(--fill-color);\n",
              "      border-right-color: var(--fill-color);\n",
              "    }\n",
              "    40% {\n",
              "      border-color: transparent;\n",
              "      border-right-color: var(--fill-color);\n",
              "      border-top-color: var(--fill-color);\n",
              "    }\n",
              "    60% {\n",
              "      border-color: transparent;\n",
              "      border-right-color: var(--fill-color);\n",
              "    }\n",
              "    80% {\n",
              "      border-color: transparent;\n",
              "      border-right-color: var(--fill-color);\n",
              "      border-bottom-color: var(--fill-color);\n",
              "    }\n",
              "    90% {\n",
              "      border-color: transparent;\n",
              "      border-bottom-color: var(--fill-color);\n",
              "    }\n",
              "  }\n",
              "</style>\n",
              "\n",
              "  <script>\n",
              "    async function quickchart(key) {\n",
              "      const quickchartButtonEl =\n",
              "        document.querySelector('#' + key + ' button');\n",
              "      quickchartButtonEl.disabled = true;  // To prevent multiple clicks.\n",
              "      quickchartButtonEl.classList.add('colab-df-spinner');\n",
              "      try {\n",
              "        const charts = await google.colab.kernel.invokeFunction(\n",
              "            'suggestCharts', [key], {});\n",
              "      } catch (error) {\n",
              "        console.error('Error during call to suggestCharts:', error);\n",
              "      }\n",
              "      quickchartButtonEl.classList.remove('colab-df-spinner');\n",
              "      quickchartButtonEl.classList.add('colab-df-quickchart-complete');\n",
              "    }\n",
              "    (() => {\n",
              "      let quickchartButtonEl =\n",
              "        document.querySelector('#df-46433bef-6eb0-4132-9d2f-b378444ad4e8 button');\n",
              "      quickchartButtonEl.style.display =\n",
              "        google.colab.kernel.accessAllowed ? 'block' : 'none';\n",
              "    })();\n",
              "  </script>\n",
              "</div>\n",
              "\n",
              "    </div>\n",
              "  </div>\n"
            ],
            "text/plain": [
              "   Entity  Year  Access to electricity (% of population)  \\\n",
              "0       0  2000                                 1.613591   \n",
              "1       0  2001                                 4.074574   \n",
              "2       0  2008                                42.400000   \n",
              "3       0  2011                                43.222020   \n",
              "4       0  2013                                68.290650   \n",
              "\n",
              "   Access to clean fuels for cooking  \\\n",
              "0                                6.2   \n",
              "1                                7.2   \n",
              "2                               16.7   \n",
              "3                               21.8   \n",
              "4                               24.8   \n",
              "\n",
              "   Renewable energy share in the total final energy consumption (%)  \\\n",
              "0                                              44.99                  \n",
              "1                                              45.60                  \n",
              "2                                              21.17                  \n",
              "3                                              12.61                  \n",
              "4                                              16.86                  \n",
              "\n",
              "   Electricity from fossil fuels (TWh)  \\\n",
              "0                                 0.16   \n",
              "1                                 0.09   \n",
              "2                                 0.19   \n",
              "3                                 0.18   \n",
              "4                                 0.22   \n",
              "\n",
              "   Primary energy consumption per capita (kWh/person)  \\\n",
              "0                                          302.59482    \n",
              "1                                          236.89185    \n",
              "2                                          607.83350    \n",
              "3                                         1436.11430    \n",
              "4                                         1060.79260    \n",
              "\n",
              "   Energy intensity level of primary energy (MJ/$2017 PPP GDP)  \\\n",
              "0                                               1.64             \n",
              "1                                               1.74             \n",
              "2                                               1.94             \n",
              "3                                               3.23             \n",
              "4                                               2.46             \n",
              "\n",
              "   Value_co2_emissions_kt_by_country  gdp_growth  gdp_per_capita  \\\n",
              "0                         760.000000    6.163893      439.055765   \n",
              "1                         730.000000    6.163893      439.055765   \n",
              "2                        3559.999943    3.924984      364.663542   \n",
              "3                        8930.000305    0.426355      591.190030   \n",
              "4                        5989.999771    5.600745      624.315454   \n",
              "\n",
              "   Density\\n(P/Km2)  Land Area(Km2)  Latitude  Longitude Country_Decoded  \n",
              "0              60.0        652230.0  33.93911  67.709953     Afghanistan  \n",
              "1              60.0        652230.0  33.93911  67.709953     Afghanistan  \n",
              "2              60.0        652230.0  33.93911  67.709953     Afghanistan  \n",
              "3              60.0        652230.0  33.93911  67.709953     Afghanistan  \n",
              "4              60.0        652230.0  33.93911  67.709953     Afghanistan  "
            ]
          },
          "execution_count": 16,
          "metadata": {},
          "output_type": "execute_result"
        }
      ],
      "source": [
        "# decoding the label encoded columns\n",
        "\n",
        "# saving the mapping of the label encoders\n",
        "\n",
        "label_mapping = dict(zip(label_encoder.classes_, label_encoder.transform(label_encoder.classes_)))\n",
        "print(label_mapping['Afghanistan'])\n",
        "\n",
        "data['Country_Decoded'] = label_encoder.inverse_transform(data['Entity'])\n",
        "data.head()"
      ]
    },
    {
      "cell_type": "code",
      "execution_count": 17,
      "metadata": {
        "id": "ClnOOjTtRH1t"
      },
      "outputs": [],
      "source": [
        "# function to filter the data based on the country based on the user input\n",
        "\n",
        "def filter_data_by_country(data, country):\n",
        "  return data[data['Entity']==label_mapping[country]]"
      ]
    },
    {
      "cell_type": "code",
      "execution_count": 18,
      "metadata": {
        "id": "qrtU1zlWRH1t"
      },
      "outputs": [],
      "source": [
        "# Assuming random_forest_features is defined somewhere in your code\n",
        "co2_emission_features = random_forest_features[0].copy()\n",
        "renewable_energy_percentage_features = random_forest_features[1].copy()\n",
        "features_list = [co2_emission_features, renewable_energy_percentage_features]\n",
        "\n",
        "# Assuming data_1 is defined somewhere in your code\n",
        "data_1 = data\n",
        "\n",
        "for column in features_list:\n",
        "  column.remove('Year')\n",
        "  column.remove('Entity')"
      ]
    },
    {
      "cell_type": "code",
      "execution_count": 19,
      "metadata": {
        "id": "9WrcHLBVRH1t"
      },
      "outputs": [],
      "source": [
        "def predict_all_variables(country, data, input_year):\n",
        "    pred_dict = {\"co2_emission\": {}, \"renewable_energy_percentage\": {}}\n",
        "    feature_dict_keys = [\"co2_emission\", \"renewable_energy_percentage\"]\n",
        "\n",
        "    for idx, feature_set in enumerate(features_list):\n",
        "        for column in feature_set:\n",
        "            country_data = data_1[data_1['Country_Decoded'] == country][['Year', column]].copy()\n",
        "            country_data['ds'] = pd.to_datetime(country_data['Year'], format='%Y')\n",
        "            country_data['y'] = country_data[column]\n",
        "            country_data = country_data[['ds', 'y']]\n",
        "\n",
        "            m = Prophet()\n",
        "            m.fit(country_data)\n",
        "\n",
        "            future = m.make_future_dataframe(periods=15, freq='Y')\n",
        "            forecast = m.predict(future)\n",
        "            forecast['ds'] = pd.to_datetime(forecast['ds'])\n",
        "            forecast['year'] = forecast['ds'].dt.year\n",
        "\n",
        "            matching_row = forecast[forecast['year'] == input_year]\n",
        "            if not matching_row.empty:\n",
        "                pred_dict[feature_dict_keys[idx]][column] = matching_row['yhat'].values[0]\n",
        "            else:\n",
        "                pred_dict[feature_dict_keys[idx]][column] = None  # Handle the case where there's no matching row\n",
        "\n",
        "    return pred_dict"
      ]
    },
    {
      "cell_type": "code",
      "execution_count": 20,
      "metadata": {
        "colab": {
          "base_uri": "https://localhost:8080/"
        },
        "id": "xwJzLGrARH1u",
        "outputId": "56d6913c-4b7b-4726-d273-30953235efb8"
      },
      "outputs": [
        {
          "name": "stderr",
          "output_type": "stream",
          "text": [
            "INFO:prophet:Disabling weekly seasonality. Run prophet with weekly_seasonality=True to override this.\n",
            "INFO:prophet:Disabling daily seasonality. Run prophet with daily_seasonality=True to override this.\n",
            "INFO:prophet:n_changepoints greater than number of observations. Using 8.\n",
            "DEBUG:cmdstanpy:input tempfile: /tmp/tmpvwojv3m9/0aw7yqb3.json\n",
            "DEBUG:cmdstanpy:input tempfile: /tmp/tmpvwojv3m9/hutyf51r.json\n",
            "DEBUG:cmdstanpy:idx 0\n",
            "DEBUG:cmdstanpy:running CmdStan, num_threads: None\n",
            "DEBUG:cmdstanpy:CmdStan args: ['/usr/local/lib/python3.10/dist-packages/prophet/stan_model/prophet_model.bin', 'random', 'seed=28127', 'data', 'file=/tmp/tmpvwojv3m9/0aw7yqb3.json', 'init=/tmp/tmpvwojv3m9/hutyf51r.json', 'output', 'file=/tmp/tmpvwojv3m9/prophet_modelu0ifk9pw/prophet_model-20240724194503.csv', 'method=optimize', 'algorithm=newton', 'iter=10000']\n",
            "19:45:03 - cmdstanpy - INFO - Chain [1] start processing\n",
            "INFO:cmdstanpy:Chain [1] start processing\n",
            "19:45:04 - cmdstanpy - INFO - Chain [1] done processing\n",
            "INFO:cmdstanpy:Chain [1] done processing\n",
            "INFO:prophet:Disabling weekly seasonality. Run prophet with weekly_seasonality=True to override this.\n",
            "INFO:prophet:Disabling daily seasonality. Run prophet with daily_seasonality=True to override this.\n",
            "INFO:prophet:n_changepoints greater than number of observations. Using 8.\n",
            "DEBUG:cmdstanpy:input tempfile: /tmp/tmpvwojv3m9/0wyvww1e.json\n",
            "DEBUG:cmdstanpy:input tempfile: /tmp/tmpvwojv3m9/dnrbmcm2.json\n",
            "DEBUG:cmdstanpy:idx 0\n",
            "DEBUG:cmdstanpy:running CmdStan, num_threads: None\n",
            "DEBUG:cmdstanpy:CmdStan args: ['/usr/local/lib/python3.10/dist-packages/prophet/stan_model/prophet_model.bin', 'random', 'seed=47629', 'data', 'file=/tmp/tmpvwojv3m9/0wyvww1e.json', 'init=/tmp/tmpvwojv3m9/dnrbmcm2.json', 'output', 'file=/tmp/tmpvwojv3m9/prophet_model944lq2v8/prophet_model-20240724194504.csv', 'method=optimize', 'algorithm=newton', 'iter=10000']\n",
            "19:45:04 - cmdstanpy - INFO - Chain [1] start processing\n",
            "INFO:cmdstanpy:Chain [1] start processing\n",
            "19:45:04 - cmdstanpy - INFO - Chain [1] done processing\n",
            "INFO:cmdstanpy:Chain [1] done processing\n",
            "INFO:prophet:Disabling weekly seasonality. Run prophet with weekly_seasonality=True to override this.\n",
            "INFO:prophet:Disabling daily seasonality. Run prophet with daily_seasonality=True to override this.\n",
            "INFO:prophet:n_changepoints greater than number of observations. Using 8.\n",
            "DEBUG:cmdstanpy:input tempfile: /tmp/tmpvwojv3m9/4u5jdg5w.json\n",
            "DEBUG:cmdstanpy:input tempfile: /tmp/tmpvwojv3m9/432yiu0p.json\n",
            "DEBUG:cmdstanpy:idx 0\n",
            "DEBUG:cmdstanpy:running CmdStan, num_threads: None\n",
            "DEBUG:cmdstanpy:CmdStan args: ['/usr/local/lib/python3.10/dist-packages/prophet/stan_model/prophet_model.bin', 'random', 'seed=48371', 'data', 'file=/tmp/tmpvwojv3m9/4u5jdg5w.json', 'init=/tmp/tmpvwojv3m9/432yiu0p.json', 'output', 'file=/tmp/tmpvwojv3m9/prophet_model5koxzp8f/prophet_model-20240724194504.csv', 'method=optimize', 'algorithm=newton', 'iter=10000']\n",
            "19:45:04 - cmdstanpy - INFO - Chain [1] start processing\n",
            "INFO:cmdstanpy:Chain [1] start processing\n",
            "19:45:04 - cmdstanpy - INFO - Chain [1] done processing\n",
            "INFO:cmdstanpy:Chain [1] done processing\n",
            "INFO:prophet:Disabling weekly seasonality. Run prophet with weekly_seasonality=True to override this.\n",
            "INFO:prophet:Disabling daily seasonality. Run prophet with daily_seasonality=True to override this.\n",
            "INFO:prophet:n_changepoints greater than number of observations. Using 8.\n",
            "DEBUG:cmdstanpy:input tempfile: /tmp/tmpvwojv3m9/usqho8r6.json\n",
            "DEBUG:cmdstanpy:input tempfile: /tmp/tmpvwojv3m9/23bcn6n0.json\n",
            "DEBUG:cmdstanpy:idx 0\n",
            "DEBUG:cmdstanpy:running CmdStan, num_threads: None\n",
            "DEBUG:cmdstanpy:CmdStan args: ['/usr/local/lib/python3.10/dist-packages/prophet/stan_model/prophet_model.bin', 'random', 'seed=22046', 'data', 'file=/tmp/tmpvwojv3m9/usqho8r6.json', 'init=/tmp/tmpvwojv3m9/23bcn6n0.json', 'output', 'file=/tmp/tmpvwojv3m9/prophet_modelnpi36m9v/prophet_model-20240724194504.csv', 'method=optimize', 'algorithm=newton', 'iter=10000']\n",
            "19:45:04 - cmdstanpy - INFO - Chain [1] start processing\n",
            "INFO:cmdstanpy:Chain [1] start processing\n",
            "19:45:04 - cmdstanpy - INFO - Chain [1] done processing\n",
            "INFO:cmdstanpy:Chain [1] done processing\n",
            "INFO:prophet:Disabling weekly seasonality. Run prophet with weekly_seasonality=True to override this.\n",
            "INFO:prophet:Disabling daily seasonality. Run prophet with daily_seasonality=True to override this.\n",
            "INFO:prophet:n_changepoints greater than number of observations. Using 8.\n",
            "DEBUG:cmdstanpy:input tempfile: /tmp/tmpvwojv3m9/h7vxa43z.json\n",
            "DEBUG:cmdstanpy:input tempfile: /tmp/tmpvwojv3m9/5j8jeg_s.json\n",
            "DEBUG:cmdstanpy:idx 0\n",
            "DEBUG:cmdstanpy:running CmdStan, num_threads: None\n",
            "DEBUG:cmdstanpy:CmdStan args: ['/usr/local/lib/python3.10/dist-packages/prophet/stan_model/prophet_model.bin', 'random', 'seed=10204', 'data', 'file=/tmp/tmpvwojv3m9/h7vxa43z.json', 'init=/tmp/tmpvwojv3m9/5j8jeg_s.json', 'output', 'file=/tmp/tmpvwojv3m9/prophet_modelo61w97ab/prophet_model-20240724194505.csv', 'method=optimize', 'algorithm=newton', 'iter=10000']\n",
            "19:45:05 - cmdstanpy - INFO - Chain [1] start processing\n",
            "INFO:cmdstanpy:Chain [1] start processing\n",
            "19:45:05 - cmdstanpy - INFO - Chain [1] done processing\n",
            "INFO:cmdstanpy:Chain [1] done processing\n",
            "INFO:prophet:Disabling weekly seasonality. Run prophet with weekly_seasonality=True to override this.\n",
            "INFO:prophet:Disabling daily seasonality. Run prophet with daily_seasonality=True to override this.\n",
            "INFO:prophet:n_changepoints greater than number of observations. Using 8.\n",
            "DEBUG:cmdstanpy:input tempfile: /tmp/tmpvwojv3m9/yfrtoztt.json\n",
            "DEBUG:cmdstanpy:input tempfile: /tmp/tmpvwojv3m9/8do4akov.json\n",
            "DEBUG:cmdstanpy:idx 0\n",
            "DEBUG:cmdstanpy:running CmdStan, num_threads: None\n",
            "DEBUG:cmdstanpy:CmdStan args: ['/usr/local/lib/python3.10/dist-packages/prophet/stan_model/prophet_model.bin', 'random', 'seed=60545', 'data', 'file=/tmp/tmpvwojv3m9/yfrtoztt.json', 'init=/tmp/tmpvwojv3m9/8do4akov.json', 'output', 'file=/tmp/tmpvwojv3m9/prophet_modelx_r2u8at/prophet_model-20240724194505.csv', 'method=optimize', 'algorithm=newton', 'iter=10000']\n",
            "19:45:05 - cmdstanpy - INFO - Chain [1] start processing\n",
            "INFO:cmdstanpy:Chain [1] start processing\n",
            "19:45:05 - cmdstanpy - INFO - Chain [1] done processing\n",
            "INFO:cmdstanpy:Chain [1] done processing\n",
            "INFO:prophet:Disabling weekly seasonality. Run prophet with weekly_seasonality=True to override this.\n",
            "INFO:prophet:Disabling daily seasonality. Run prophet with daily_seasonality=True to override this.\n",
            "INFO:prophet:n_changepoints greater than number of observations. Using 8.\n",
            "INFO:prophet:Disabling weekly seasonality. Run prophet with weekly_seasonality=True to override this.\n",
            "INFO:prophet:Disabling daily seasonality. Run prophet with daily_seasonality=True to override this.\n",
            "INFO:prophet:n_changepoints greater than number of observations. Using 8.\n",
            "INFO:prophet:Disabling weekly seasonality. Run prophet with weekly_seasonality=True to override this.\n",
            "INFO:prophet:Disabling daily seasonality. Run prophet with daily_seasonality=True to override this.\n",
            "INFO:prophet:n_changepoints greater than number of observations. Using 8.\n",
            "INFO:prophet:Disabling weekly seasonality. Run prophet with weekly_seasonality=True to override this.\n",
            "INFO:prophet:Disabling daily seasonality. Run prophet with daily_seasonality=True to override this.\n",
            "INFO:prophet:n_changepoints greater than number of observations. Using 8.\n",
            "DEBUG:cmdstanpy:input tempfile: /tmp/tmpvwojv3m9/ak4rwl2z.json\n",
            "DEBUG:cmdstanpy:input tempfile: /tmp/tmpvwojv3m9/hvfnh21s.json\n",
            "DEBUG:cmdstanpy:idx 0\n",
            "DEBUG:cmdstanpy:running CmdStan, num_threads: None\n",
            "DEBUG:cmdstanpy:CmdStan args: ['/usr/local/lib/python3.10/dist-packages/prophet/stan_model/prophet_model.bin', 'random', 'seed=74682', 'data', 'file=/tmp/tmpvwojv3m9/ak4rwl2z.json', 'init=/tmp/tmpvwojv3m9/hvfnh21s.json', 'output', 'file=/tmp/tmpvwojv3m9/prophet_modelgzd9mo2m/prophet_model-20240724194505.csv', 'method=optimize', 'algorithm=newton', 'iter=10000']\n",
            "19:45:05 - cmdstanpy - INFO - Chain [1] start processing\n",
            "INFO:cmdstanpy:Chain [1] start processing\n",
            "19:45:05 - cmdstanpy - INFO - Chain [1] done processing\n",
            "INFO:cmdstanpy:Chain [1] done processing\n",
            "INFO:prophet:Disabling weekly seasonality. Run prophet with weekly_seasonality=True to override this.\n",
            "INFO:prophet:Disabling daily seasonality. Run prophet with daily_seasonality=True to override this.\n",
            "INFO:prophet:n_changepoints greater than number of observations. Using 8.\n",
            "DEBUG:cmdstanpy:input tempfile: /tmp/tmpvwojv3m9/pco11f3m.json\n",
            "DEBUG:cmdstanpy:input tempfile: /tmp/tmpvwojv3m9/ejqo4r_c.json\n",
            "DEBUG:cmdstanpy:idx 0\n",
            "DEBUG:cmdstanpy:running CmdStan, num_threads: None\n",
            "DEBUG:cmdstanpy:CmdStan args: ['/usr/local/lib/python3.10/dist-packages/prophet/stan_model/prophet_model.bin', 'random', 'seed=76444', 'data', 'file=/tmp/tmpvwojv3m9/pco11f3m.json', 'init=/tmp/tmpvwojv3m9/ejqo4r_c.json', 'output', 'file=/tmp/tmpvwojv3m9/prophet_model6h8pyf69/prophet_model-20240724194506.csv', 'method=optimize', 'algorithm=newton', 'iter=10000']\n",
            "19:45:06 - cmdstanpy - INFO - Chain [1] start processing\n",
            "INFO:cmdstanpy:Chain [1] start processing\n",
            "19:45:06 - cmdstanpy - INFO - Chain [1] done processing\n",
            "INFO:cmdstanpy:Chain [1] done processing\n",
            "INFO:prophet:Disabling weekly seasonality. Run prophet with weekly_seasonality=True to override this.\n",
            "INFO:prophet:Disabling daily seasonality. Run prophet with daily_seasonality=True to override this.\n",
            "INFO:prophet:n_changepoints greater than number of observations. Using 8.\n",
            "DEBUG:cmdstanpy:input tempfile: /tmp/tmpvwojv3m9/icljyx0e.json\n",
            "DEBUG:cmdstanpy:input tempfile: /tmp/tmpvwojv3m9/d11ag7x7.json\n",
            "DEBUG:cmdstanpy:idx 0\n",
            "DEBUG:cmdstanpy:running CmdStan, num_threads: None\n",
            "DEBUG:cmdstanpy:CmdStan args: ['/usr/local/lib/python3.10/dist-packages/prophet/stan_model/prophet_model.bin', 'random', 'seed=70366', 'data', 'file=/tmp/tmpvwojv3m9/icljyx0e.json', 'init=/tmp/tmpvwojv3m9/d11ag7x7.json', 'output', 'file=/tmp/tmpvwojv3m9/prophet_model38wg68kt/prophet_model-20240724194506.csv', 'method=optimize', 'algorithm=newton', 'iter=10000']\n",
            "19:45:06 - cmdstanpy - INFO - Chain [1] start processing\n",
            "INFO:cmdstanpy:Chain [1] start processing\n",
            "19:45:06 - cmdstanpy - INFO - Chain [1] done processing\n",
            "INFO:cmdstanpy:Chain [1] done processing\n",
            "INFO:prophet:Disabling weekly seasonality. Run prophet with weekly_seasonality=True to override this.\n",
            "INFO:prophet:Disabling daily seasonality. Run prophet with daily_seasonality=True to override this.\n",
            "INFO:prophet:n_changepoints greater than number of observations. Using 8.\n",
            "DEBUG:cmdstanpy:input tempfile: /tmp/tmpvwojv3m9/vd97sbkg.json\n",
            "DEBUG:cmdstanpy:input tempfile: /tmp/tmpvwojv3m9/dkkdmx2c.json\n",
            "DEBUG:cmdstanpy:idx 0\n",
            "DEBUG:cmdstanpy:running CmdStan, num_threads: None\n",
            "DEBUG:cmdstanpy:CmdStan args: ['/usr/local/lib/python3.10/dist-packages/prophet/stan_model/prophet_model.bin', 'random', 'seed=75180', 'data', 'file=/tmp/tmpvwojv3m9/vd97sbkg.json', 'init=/tmp/tmpvwojv3m9/dkkdmx2c.json', 'output', 'file=/tmp/tmpvwojv3m9/prophet_modelxgm91zea/prophet_model-20240724194506.csv', 'method=optimize', 'algorithm=newton', 'iter=10000']\n",
            "19:45:06 - cmdstanpy - INFO - Chain [1] start processing\n",
            "INFO:cmdstanpy:Chain [1] start processing\n",
            "19:45:06 - cmdstanpy - INFO - Chain [1] done processing\n",
            "INFO:cmdstanpy:Chain [1] done processing\n",
            "INFO:prophet:Disabling weekly seasonality. Run prophet with weekly_seasonality=True to override this.\n",
            "INFO:prophet:Disabling daily seasonality. Run prophet with daily_seasonality=True to override this.\n",
            "INFO:prophet:n_changepoints greater than number of observations. Using 8.\n",
            "DEBUG:cmdstanpy:input tempfile: /tmp/tmpvwojv3m9/k06hay47.json\n",
            "DEBUG:cmdstanpy:input tempfile: /tmp/tmpvwojv3m9/zzlh1kj6.json\n",
            "DEBUG:cmdstanpy:idx 0\n",
            "DEBUG:cmdstanpy:running CmdStan, num_threads: None\n",
            "DEBUG:cmdstanpy:CmdStan args: ['/usr/local/lib/python3.10/dist-packages/prophet/stan_model/prophet_model.bin', 'random', 'seed=63185', 'data', 'file=/tmp/tmpvwojv3m9/k06hay47.json', 'init=/tmp/tmpvwojv3m9/zzlh1kj6.json', 'output', 'file=/tmp/tmpvwojv3m9/prophet_modelfb8fyj0h/prophet_model-20240724194507.csv', 'method=optimize', 'algorithm=newton', 'iter=10000']\n",
            "19:45:07 - cmdstanpy - INFO - Chain [1] start processing\n",
            "INFO:cmdstanpy:Chain [1] start processing\n",
            "19:45:07 - cmdstanpy - INFO - Chain [1] done processing\n",
            "INFO:cmdstanpy:Chain [1] done processing\n",
            "INFO:prophet:Disabling weekly seasonality. Run prophet with weekly_seasonality=True to override this.\n",
            "INFO:prophet:Disabling daily seasonality. Run prophet with daily_seasonality=True to override this.\n",
            "INFO:prophet:n_changepoints greater than number of observations. Using 8.\n",
            "INFO:prophet:Disabling weekly seasonality. Run prophet with weekly_seasonality=True to override this.\n",
            "INFO:prophet:Disabling daily seasonality. Run prophet with daily_seasonality=True to override this.\n",
            "INFO:prophet:n_changepoints greater than number of observations. Using 8.\n",
            "INFO:prophet:Disabling weekly seasonality. Run prophet with weekly_seasonality=True to override this.\n",
            "INFO:prophet:Disabling daily seasonality. Run prophet with daily_seasonality=True to override this.\n",
            "INFO:prophet:n_changepoints greater than number of observations. Using 8.\n",
            "INFO:prophet:Disabling weekly seasonality. Run prophet with weekly_seasonality=True to override this.\n",
            "INFO:prophet:Disabling daily seasonality. Run prophet with daily_seasonality=True to override this.\n",
            "INFO:prophet:n_changepoints greater than number of observations. Using 8.\n"
          ]
        }
      ],
      "source": [
        "predicted_values = predict_all_variables('Afghanistan', data_1, 2022 )\n",
        "input_data=predicted_values"
      ]
    },
    {
      "cell_type": "code",
      "execution_count": 21,
      "metadata": {
        "colab": {
          "base_uri": "https://localhost:8080/"
        },
        "id": "5mxzIBUmRH1u",
        "outputId": "9f255512-eea8-46c4-90c1-8f16f9af39a7"
      },
      "outputs": [
        {
          "data": {
            "text/plain": [
              "{'co2_emission': {'Access to clean fuels for cooking': 37.00491834890717,\n",
              "  'Electricity from fossil fuels (TWh)': 0.16055347320412916,\n",
              "  'Primary energy consumption per capita (kWh/person)': 918.6429215663597,\n",
              "  'Energy intensity level of primary energy (MJ/$2017 PPP GDP)': 2.031556391662323,\n",
              "  'gdp_growth': -2.733936660319392,\n",
              "  'gdp_per_capita': 427.6447736682827,\n",
              "  'Density\\\\n(P/Km2)': 60.0,\n",
              "  'Land Area(Km2)': 652230.0,\n",
              "  'Longitude': 67.709953},\n",
              " 'renewable_energy_percentage': {'Access to electricity (% of population)': 122.4576463670294,\n",
              "  'Access to clean fuels for cooking': 37.00491834890717,\n",
              "  'Electricity from fossil fuels (TWh)': 0.16055347320412916,\n",
              "  'Primary energy consumption per capita (kWh/person)': 918.6429215663597,\n",
              "  'Energy intensity level of primary energy (MJ/$2017 PPP GDP)': 2.031556391662323,\n",
              "  'Density\\\\n(P/Km2)': 60.0,\n",
              "  'Land Area(Km2)': 652230.0,\n",
              "  'Latitude': 33.93911,\n",
              "  'Longitude': 67.709953}}"
            ]
          },
          "execution_count": 21,
          "metadata": {},
          "output_type": "execute_result"
        }
      ],
      "source": [
        "predicted_values"
      ]
    },
    {
      "cell_type": "code",
      "execution_count": 22,
      "metadata": {
        "id": "Lx_P3-lcRH1u"
      },
      "outputs": [],
      "source": [
        "extra_columns=['co2_emission','renewable_energy_percentage']"
      ]
    },
    {
      "cell_type": "code",
      "execution_count": 23,
      "metadata": {
        "id": "nQXsraTIRH1u"
      },
      "outputs": [],
      "source": [
        "for column in extra_columns:\n",
        "   input_data[column]['Year']=2022\n",
        "   input_data[column]['Entity']=label_mapping['Afghanistan']"
      ]
    },
    {
      "cell_type": "code",
      "execution_count": 24,
      "metadata": {
        "colab": {
          "base_uri": "https://localhost:8080/"
        },
        "id": "myVnqXOARH1u",
        "outputId": "16028105-1b0f-4aa9-b46f-6916df8f04b6"
      },
      "outputs": [
        {
          "data": {
            "text/plain": [
              "{'co2_emission': {'Access to clean fuels for cooking': 37.00491834890717,\n",
              "  'Electricity from fossil fuels (TWh)': 0.16055347320412916,\n",
              "  'Primary energy consumption per capita (kWh/person)': 918.6429215663597,\n",
              "  'Energy intensity level of primary energy (MJ/$2017 PPP GDP)': 2.031556391662323,\n",
              "  'gdp_growth': -2.733936660319392,\n",
              "  'gdp_per_capita': 427.6447736682827,\n",
              "  'Density\\\\n(P/Km2)': 60.0,\n",
              "  'Land Area(Km2)': 652230.0,\n",
              "  'Longitude': 67.709953,\n",
              "  'Year': 2022,\n",
              "  'Entity': 0},\n",
              " 'renewable_energy_percentage': {'Access to electricity (% of population)': 122.4576463670294,\n",
              "  'Access to clean fuels for cooking': 37.00491834890717,\n",
              "  'Electricity from fossil fuels (TWh)': 0.16055347320412916,\n",
              "  'Primary energy consumption per capita (kWh/person)': 918.6429215663597,\n",
              "  'Energy intensity level of primary energy (MJ/$2017 PPP GDP)': 2.031556391662323,\n",
              "  'Density\\\\n(P/Km2)': 60.0,\n",
              "  'Land Area(Km2)': 652230.0,\n",
              "  'Latitude': 33.93911,\n",
              "  'Longitude': 67.709953,\n",
              "  'Year': 2022,\n",
              "  'Entity': 0}}"
            ]
          },
          "execution_count": 24,
          "metadata": {},
          "output_type": "execute_result"
        }
      ],
      "source": [
        "input_data"
      ]
    },
    {
      "cell_type": "code",
      "execution_count": 25,
      "metadata": {
        "id": "gZyppFHQRH1u"
      },
      "outputs": [],
      "source": [
        "loaded_model_list=['./Random forest regressor model for Value_co2_emissions_kt_by_country', './Random forest regressor model for Renewable energy share in the total final energy consumption (%)']"
      ]
    },
    {
      "cell_type": "code",
      "execution_count": 26,
      "metadata": {
        "colab": {
          "base_uri": "https://localhost:8080/"
        },
        "id": "ka5qOKd7RH1u",
        "outputId": "8db4fa22-9d8e-41d7-f267-c83d5c0d55be"
      },
      "outputs": [
        {
          "name": "stdout",
          "output_type": "stream",
          "text": [
            "The predicted value of the co_2 emission  is: 5565.235060948002\n",
            "The predicted value of the renewable energy consumption  is: 22.388129999999997\n"
          ]
        }
      ],
      "source": [
        "# Convert each inner dictionary to a DataFrame\n",
        "df_co2_emission = pd.DataFrame([input_data['co2_emission']])\n",
        "df_renewable_energy_percentage = pd.DataFrame([input_data['renewable_energy_percentage']])\n",
        "\n",
        "model_1=joblib.load(loaded_model_list[0])\n",
        "model_2=joblib.load(loaded_model_list[1])\n",
        "\n",
        "df_co2_emission=df_co2_emission[random_forest_features[0]]\n",
        "predicted_value_1 = model_1.predict(df_co2_emission)\n",
        "print(f\"The predicted value of the co_2 emission  is: {predicted_value_1[0]}\")\n",
        "\n",
        "df_renewable_energy_percentage=df_renewable_energy_percentage[random_forest_features[1]]\n",
        "predicted_value_2 = model_2.predict(df_renewable_energy_percentage)\n",
        "print(f\"The predicted value of the renewable energy consumption  is: {predicted_value_2[0]}\")"
      ]
    },
    {
      "cell_type": "markdown",
      "metadata": {
        "id": "PSlSgPzRRH1v"
      },
      "source": [
        "# Neural Network Training"
      ]
    },
    {
      "cell_type": "code",
      "execution_count": 27,
      "metadata": {
        "colab": {
          "base_uri": "https://localhost:8080/"
        },
        "id": "N4KgZ-UYRH1v",
        "outputId": "4a9a929d-880f-47dc-bc7f-e39d4305d9c6"
      },
      "outputs": [
        {
          "name": "stdout",
          "output_type": "stream",
          "text": [
            "Requirement already satisfied: tensorflow in /usr/local/lib/python3.10/dist-packages (2.15.0)\n",
            "Requirement already satisfied: absl-py>=1.0.0 in /usr/local/lib/python3.10/dist-packages (from tensorflow) (1.4.0)\n",
            "Requirement already satisfied: astunparse>=1.6.0 in /usr/local/lib/python3.10/dist-packages (from tensorflow) (1.6.3)\n",
            "Requirement already satisfied: flatbuffers>=23.5.26 in /usr/local/lib/python3.10/dist-packages (from tensorflow) (24.3.25)\n",
            "Requirement already satisfied: gast!=0.5.0,!=0.5.1,!=0.5.2,>=0.2.1 in /usr/local/lib/python3.10/dist-packages (from tensorflow) (0.6.0)\n",
            "Requirement already satisfied: google-pasta>=0.1.1 in /usr/local/lib/python3.10/dist-packages (from tensorflow) (0.2.0)\n",
            "Requirement already satisfied: h5py>=2.9.0 in /usr/local/lib/python3.10/dist-packages (from tensorflow) (3.9.0)\n",
            "Requirement already satisfied: libclang>=13.0.0 in /usr/local/lib/python3.10/dist-packages (from tensorflow) (18.1.1)\n",
            "Requirement already satisfied: ml-dtypes~=0.2.0 in /usr/local/lib/python3.10/dist-packages (from tensorflow) (0.2.0)\n",
            "Requirement already satisfied: numpy<2.0.0,>=1.23.5 in /usr/local/lib/python3.10/dist-packages (from tensorflow) (1.25.2)\n",
            "Requirement already satisfied: opt-einsum>=2.3.2 in /usr/local/lib/python3.10/dist-packages (from tensorflow) (3.3.0)\n",
            "Requirement already satisfied: packaging in /usr/local/lib/python3.10/dist-packages (from tensorflow) (24.1)\n",
            "Requirement already satisfied: protobuf!=4.21.0,!=4.21.1,!=4.21.2,!=4.21.3,!=4.21.4,!=4.21.5,<5.0.0dev,>=3.20.3 in /usr/local/lib/python3.10/dist-packages (from tensorflow) (3.20.3)\n",
            "Requirement already satisfied: setuptools in /usr/local/lib/python3.10/dist-packages (from tensorflow) (71.0.4)\n",
            "Requirement already satisfied: six>=1.12.0 in /usr/local/lib/python3.10/dist-packages (from tensorflow) (1.16.0)\n",
            "Requirement already satisfied: termcolor>=1.1.0 in /usr/local/lib/python3.10/dist-packages (from tensorflow) (2.4.0)\n",
            "Requirement already satisfied: typing-extensions>=3.6.6 in /usr/local/lib/python3.10/dist-packages (from tensorflow) (4.12.2)\n",
            "Requirement already satisfied: wrapt<1.15,>=1.11.0 in /usr/local/lib/python3.10/dist-packages (from tensorflow) (1.14.1)\n",
            "Requirement already satisfied: tensorflow-io-gcs-filesystem>=0.23.1 in /usr/local/lib/python3.10/dist-packages (from tensorflow) (0.37.1)\n",
            "Requirement already satisfied: grpcio<2.0,>=1.24.3 in /usr/local/lib/python3.10/dist-packages (from tensorflow) (1.64.1)\n",
            "Requirement already satisfied: tensorboard<2.16,>=2.15 in /usr/local/lib/python3.10/dist-packages (from tensorflow) (2.15.2)\n",
            "Requirement already satisfied: tensorflow-estimator<2.16,>=2.15.0 in /usr/local/lib/python3.10/dist-packages (from tensorflow) (2.15.0)\n",
            "Requirement already satisfied: keras<2.16,>=2.15.0 in /usr/local/lib/python3.10/dist-packages (from tensorflow) (2.15.0)\n",
            "Requirement already satisfied: wheel<1.0,>=0.23.0 in /usr/local/lib/python3.10/dist-packages (from astunparse>=1.6.0->tensorflow) (0.43.0)\n",
            "Requirement already satisfied: google-auth<3,>=1.6.3 in /usr/local/lib/python3.10/dist-packages (from tensorboard<2.16,>=2.15->tensorflow) (2.27.0)\n",
            "Requirement already satisfied: google-auth-oauthlib<2,>=0.5 in /usr/local/lib/python3.10/dist-packages (from tensorboard<2.16,>=2.15->tensorflow) (1.2.1)\n",
            "Requirement already satisfied: markdown>=2.6.8 in /usr/local/lib/python3.10/dist-packages (from tensorboard<2.16,>=2.15->tensorflow) (3.6)\n",
            "Requirement already satisfied: requests<3,>=2.21.0 in /usr/local/lib/python3.10/dist-packages (from tensorboard<2.16,>=2.15->tensorflow) (2.31.0)\n",
            "Requirement already satisfied: tensorboard-data-server<0.8.0,>=0.7.0 in /usr/local/lib/python3.10/dist-packages (from tensorboard<2.16,>=2.15->tensorflow) (0.7.2)\n",
            "Requirement already satisfied: werkzeug>=1.0.1 in /usr/local/lib/python3.10/dist-packages (from tensorboard<2.16,>=2.15->tensorflow) (3.0.3)\n",
            "Requirement already satisfied: cachetools<6.0,>=2.0.0 in /usr/local/lib/python3.10/dist-packages (from google-auth<3,>=1.6.3->tensorboard<2.16,>=2.15->tensorflow) (5.4.0)\n",
            "Requirement already satisfied: pyasn1-modules>=0.2.1 in /usr/local/lib/python3.10/dist-packages (from google-auth<3,>=1.6.3->tensorboard<2.16,>=2.15->tensorflow) (0.4.0)\n",
            "Requirement already satisfied: rsa<5,>=3.1.4 in /usr/local/lib/python3.10/dist-packages (from google-auth<3,>=1.6.3->tensorboard<2.16,>=2.15->tensorflow) (4.9)\n",
            "Requirement already satisfied: requests-oauthlib>=0.7.0 in /usr/local/lib/python3.10/dist-packages (from google-auth-oauthlib<2,>=0.5->tensorboard<2.16,>=2.15->tensorflow) (1.3.1)\n",
            "Requirement already satisfied: charset-normalizer<4,>=2 in /usr/local/lib/python3.10/dist-packages (from requests<3,>=2.21.0->tensorboard<2.16,>=2.15->tensorflow) (3.3.2)\n",
            "Requirement already satisfied: idna<4,>=2.5 in /usr/local/lib/python3.10/dist-packages (from requests<3,>=2.21.0->tensorboard<2.16,>=2.15->tensorflow) (3.7)\n",
            "Requirement already satisfied: urllib3<3,>=1.21.1 in /usr/local/lib/python3.10/dist-packages (from requests<3,>=2.21.0->tensorboard<2.16,>=2.15->tensorflow) (2.0.7)\n",
            "Requirement already satisfied: certifi>=2017.4.17 in /usr/local/lib/python3.10/dist-packages (from requests<3,>=2.21.0->tensorboard<2.16,>=2.15->tensorflow) (2024.7.4)\n",
            "Requirement already satisfied: MarkupSafe>=2.1.1 in /usr/local/lib/python3.10/dist-packages (from werkzeug>=1.0.1->tensorboard<2.16,>=2.15->tensorflow) (2.1.5)\n",
            "Requirement already satisfied: pyasn1<0.7.0,>=0.4.6 in /usr/local/lib/python3.10/dist-packages (from pyasn1-modules>=0.2.1->google-auth<3,>=1.6.3->tensorboard<2.16,>=2.15->tensorflow) (0.6.0)\n",
            "Requirement already satisfied: oauthlib>=3.0.0 in /usr/local/lib/python3.10/dist-packages (from requests-oauthlib>=0.7.0->google-auth-oauthlib<2,>=0.5->tensorboard<2.16,>=2.15->tensorflow) (3.2.2)\n"
          ]
        }
      ],
      "source": [
        "!pip install tensorflow"
      ]
    },
    {
      "cell_type": "code",
      "execution_count": 28,
      "metadata": {
        "id": "hJuWthfRRH1v"
      },
      "outputs": [],
      "source": [
        "import tensorflow as tf\n",
        "from tensorflow import keras\n",
        "from tensorflow.keras import layers"
      ]
    },
    {
      "cell_type": "code",
      "execution_count": 29,
      "metadata": {
        "colab": {
          "base_uri": "https://localhost:8080/"
        },
        "id": "YwsKF2HURH1v",
        "outputId": "90d3fc5e-e2be-4a03-c975-932c8af71a64"
      },
      "outputs": [
        {
          "data": {
            "text/plain": [
              "['Entity',\n",
              " 'Year',\n",
              " 'Access to electricity (% of population)',\n",
              " 'Access to clean fuels for cooking',\n",
              " 'Renewable energy share in the total final energy consumption (%)',\n",
              " 'Electricity from fossil fuels (TWh)',\n",
              " 'Primary energy consumption per capita (kWh/person)',\n",
              " 'Energy intensity level of primary energy (MJ/$2017 PPP GDP)',\n",
              " 'Value_co2_emissions_kt_by_country',\n",
              " 'gdp_growth',\n",
              " 'gdp_per_capita',\n",
              " 'Density\\\\n(P/Km2)',\n",
              " 'Land Area(Km2)',\n",
              " 'Latitude',\n",
              " 'Longitude',\n",
              " 'Country_Decoded']"
            ]
          },
          "execution_count": 29,
          "metadata": {},
          "output_type": "execute_result"
        }
      ],
      "source": [
        "data.columns.to_list()"
      ]
    },
    {
      "cell_type": "code",
      "execution_count": 30,
      "metadata": {
        "id": "Vn-RYzCqRH1v"
      },
      "outputs": [],
      "source": [
        "target_variables=['Value_co2_emissions_kt_by_country','Renewable energy share in the total final energy consumption (%)']"
      ]
    },
    {
      "cell_type": "code",
      "execution_count": 31,
      "metadata": {
        "id": "lDnQuQ-FRH1v"
      },
      "outputs": [],
      "source": [
        "correlation_matrix =  data.select_dtypes(\"number\").corr()\n",
        "target_features = correlation_matrix[target_variables[0]].drop(target_variables[0])\n",
        "target_features = target_features[abs(target_features)>0.3].index.tolist()"
      ]
    },
    {
      "cell_type": "code",
      "execution_count": 32,
      "metadata": {
        "colab": {
          "base_uri": "https://localhost:8080/"
        },
        "id": "khsfekvQRH1v",
        "outputId": "bd76a5ae-c224-4561-b379-1581f5cefd4f"
      },
      "outputs": [
        {
          "data": {
            "text/plain": [
              "['Electricity from fossil fuels (TWh)', 'Land Area(Km2)']"
            ]
          },
          "execution_count": 32,
          "metadata": {},
          "output_type": "execute_result"
        }
      ],
      "source": [
        "target_features"
      ]
    },
    {
      "cell_type": "code",
      "execution_count": 33,
      "metadata": {
        "colab": {
          "base_uri": "https://localhost:8080/"
        },
        "id": "pyl9S8TbRH1w",
        "outputId": "a903d604-c97a-4fcb-8880-ed921b339a23"
      },
      "outputs": [
        {
          "data": {
            "text/plain": [
              "['Value_co2_emissions_kt_by_country',\n",
              " 'Renewable energy share in the total final energy consumption (%)']"
            ]
          },
          "execution_count": 33,
          "metadata": {},
          "output_type": "execute_result"
        }
      ],
      "source": [
        "target_variables"
      ]
    },
    {
      "cell_type": "code",
      "execution_count": 34,
      "metadata": {
        "id": "1nu7HESpRH1w"
      },
      "outputs": [],
      "source": [
        "from sklearn.preprocessing import StandardScaler\n",
        "\n",
        "columns=['Electricity from fossil fuels (TWh)', 'Land Area(Km2)','Value_co2_emissions_kt_by_country','Renewable energy share in the total final energy consumption (%)']\n",
        "\n",
        "scaler=StandardScaler()\n",
        "data[columns]=scaler.fit_transform(data[columns])"
      ]
    },
    {
      "cell_type": "code",
      "execution_count": 35,
      "metadata": {
        "colab": {
          "base_uri": "https://localhost:8080/",
          "height": 206
        },
        "id": "cO9pr6q0RH1w",
        "outputId": "5dd3c488-6680-44db-c858-0d7d2e70ad8b"
      },
      "outputs": [
        {
          "data": {
            "application/vnd.google.colaboratory.intrinsic+json": {
              "summary": "{\n  \"name\": \"data[target_variables]\",\n  \"rows\": 5,\n  \"fields\": [\n    {\n      \"column\": \"Value_co2_emissions_kt_by_country\",\n      \"properties\": {\n        \"dtype\": \"number\",\n        \"std\": 0.004348035052644732,\n        \"min\": -0.2113341180762898,\n        \"max\": -0.20121408368270882,\n        \"num_unique_values\": 5,\n        \"samples\": [\n          -0.2113341180762898,\n          -0.20484248678204584,\n          -0.20784147226022454\n        ],\n        \"semantic_type\": \"\",\n        \"description\": \"\"\n      }\n    },\n    {\n      \"column\": \"Renewable energy share in the total final energy consumption (%)\",\n      \"properties\": {\n        \"dtype\": \"number\",\n        \"std\": 0.5354151414210546,\n        \"min\": -0.666559924108516,\n        \"max\": 0.4473878308308445,\n        \"num_unique_values\": 5,\n        \"samples\": [\n          0.4473878308308445,\n          -0.5230534688647367,\n          -0.3775210401351627\n        ],\n        \"semantic_type\": \"\",\n        \"description\": \"\"\n      }\n    }\n  ]\n}",
              "type": "dataframe"
            },
            "text/html": [
              "\n",
              "  <div id=\"df-546a8073-fd19-448f-b54e-d16f51637bde\" class=\"colab-df-container\">\n",
              "    <div>\n",
              "<style scoped>\n",
              "    .dataframe tbody tr th:only-of-type {\n",
              "        vertical-align: middle;\n",
              "    }\n",
              "\n",
              "    .dataframe tbody tr th {\n",
              "        vertical-align: top;\n",
              "    }\n",
              "\n",
              "    .dataframe thead th {\n",
              "        text-align: right;\n",
              "    }\n",
              "</style>\n",
              "<table border=\"1\" class=\"dataframe\">\n",
              "  <thead>\n",
              "    <tr style=\"text-align: right;\">\n",
              "      <th></th>\n",
              "      <th>Value_co2_emissions_kt_by_country</th>\n",
              "      <th>Renewable energy share in the total final energy consumption (%)</th>\n",
              "    </tr>\n",
              "  </thead>\n",
              "  <tbody>\n",
              "    <tr>\n",
              "      <th>0</th>\n",
              "      <td>-0.211297</td>\n",
              "      <td>0.426790</td>\n",
              "    </tr>\n",
              "    <tr>\n",
              "      <th>1</th>\n",
              "      <td>-0.211334</td>\n",
              "      <td>0.447388</td>\n",
              "    </tr>\n",
              "    <tr>\n",
              "      <th>2</th>\n",
              "      <td>-0.207841</td>\n",
              "      <td>-0.377521</td>\n",
              "    </tr>\n",
              "    <tr>\n",
              "      <th>3</th>\n",
              "      <td>-0.201214</td>\n",
              "      <td>-0.666560</td>\n",
              "    </tr>\n",
              "    <tr>\n",
              "      <th>4</th>\n",
              "      <td>-0.204842</td>\n",
              "      <td>-0.523053</td>\n",
              "    </tr>\n",
              "  </tbody>\n",
              "</table>\n",
              "</div>\n",
              "    <div class=\"colab-df-buttons\">\n",
              "\n",
              "  <div class=\"colab-df-container\">\n",
              "    <button class=\"colab-df-convert\" onclick=\"convertToInteractive('df-546a8073-fd19-448f-b54e-d16f51637bde')\"\n",
              "            title=\"Convert this dataframe to an interactive table.\"\n",
              "            style=\"display:none;\">\n",
              "\n",
              "  <svg xmlns=\"http://www.w3.org/2000/svg\" height=\"24px\" viewBox=\"0 -960 960 960\">\n",
              "    <path d=\"M120-120v-720h720v720H120Zm60-500h600v-160H180v160Zm220 220h160v-160H400v160Zm0 220h160v-160H400v160ZM180-400h160v-160H180v160Zm440 0h160v-160H620v160ZM180-180h160v-160H180v160Zm440 0h160v-160H620v160Z\"/>\n",
              "  </svg>\n",
              "    </button>\n",
              "\n",
              "  <style>\n",
              "    .colab-df-container {\n",
              "      display:flex;\n",
              "      gap: 12px;\n",
              "    }\n",
              "\n",
              "    .colab-df-convert {\n",
              "      background-color: #E8F0FE;\n",
              "      border: none;\n",
              "      border-radius: 50%;\n",
              "      cursor: pointer;\n",
              "      display: none;\n",
              "      fill: #1967D2;\n",
              "      height: 32px;\n",
              "      padding: 0 0 0 0;\n",
              "      width: 32px;\n",
              "    }\n",
              "\n",
              "    .colab-df-convert:hover {\n",
              "      background-color: #E2EBFA;\n",
              "      box-shadow: 0px 1px 2px rgba(60, 64, 67, 0.3), 0px 1px 3px 1px rgba(60, 64, 67, 0.15);\n",
              "      fill: #174EA6;\n",
              "    }\n",
              "\n",
              "    .colab-df-buttons div {\n",
              "      margin-bottom: 4px;\n",
              "    }\n",
              "\n",
              "    [theme=dark] .colab-df-convert {\n",
              "      background-color: #3B4455;\n",
              "      fill: #D2E3FC;\n",
              "    }\n",
              "\n",
              "    [theme=dark] .colab-df-convert:hover {\n",
              "      background-color: #434B5C;\n",
              "      box-shadow: 0px 1px 3px 1px rgba(0, 0, 0, 0.15);\n",
              "      filter: drop-shadow(0px 1px 2px rgba(0, 0, 0, 0.3));\n",
              "      fill: #FFFFFF;\n",
              "    }\n",
              "  </style>\n",
              "\n",
              "    <script>\n",
              "      const buttonEl =\n",
              "        document.querySelector('#df-546a8073-fd19-448f-b54e-d16f51637bde button.colab-df-convert');\n",
              "      buttonEl.style.display =\n",
              "        google.colab.kernel.accessAllowed ? 'block' : 'none';\n",
              "\n",
              "      async function convertToInteractive(key) {\n",
              "        const element = document.querySelector('#df-546a8073-fd19-448f-b54e-d16f51637bde');\n",
              "        const dataTable =\n",
              "          await google.colab.kernel.invokeFunction('convertToInteractive',\n",
              "                                                    [key], {});\n",
              "        if (!dataTable) return;\n",
              "\n",
              "        const docLinkHtml = 'Like what you see? Visit the ' +\n",
              "          '<a target=\"_blank\" href=https://colab.research.google.com/notebooks/data_table.ipynb>data table notebook</a>'\n",
              "          + ' to learn more about interactive tables.';\n",
              "        element.innerHTML = '';\n",
              "        dataTable['output_type'] = 'display_data';\n",
              "        await google.colab.output.renderOutput(dataTable, element);\n",
              "        const docLink = document.createElement('div');\n",
              "        docLink.innerHTML = docLinkHtml;\n",
              "        element.appendChild(docLink);\n",
              "      }\n",
              "    </script>\n",
              "  </div>\n",
              "\n",
              "\n",
              "<div id=\"df-69d60a7b-454a-4180-bc27-be5a477c3c3f\">\n",
              "  <button class=\"colab-df-quickchart\" onclick=\"quickchart('df-69d60a7b-454a-4180-bc27-be5a477c3c3f')\"\n",
              "            title=\"Suggest charts\"\n",
              "            style=\"display:none;\">\n",
              "\n",
              "<svg xmlns=\"http://www.w3.org/2000/svg\" height=\"24px\"viewBox=\"0 0 24 24\"\n",
              "     width=\"24px\">\n",
              "    <g>\n",
              "        <path d=\"M19 3H5c-1.1 0-2 .9-2 2v14c0 1.1.9 2 2 2h14c1.1 0 2-.9 2-2V5c0-1.1-.9-2-2-2zM9 17H7v-7h2v7zm4 0h-2V7h2v10zm4 0h-2v-4h2v4z\"/>\n",
              "    </g>\n",
              "</svg>\n",
              "  </button>\n",
              "\n",
              "<style>\n",
              "  .colab-df-quickchart {\n",
              "      --bg-color: #E8F0FE;\n",
              "      --fill-color: #1967D2;\n",
              "      --hover-bg-color: #E2EBFA;\n",
              "      --hover-fill-color: #174EA6;\n",
              "      --disabled-fill-color: #AAA;\n",
              "      --disabled-bg-color: #DDD;\n",
              "  }\n",
              "\n",
              "  [theme=dark] .colab-df-quickchart {\n",
              "      --bg-color: #3B4455;\n",
              "      --fill-color: #D2E3FC;\n",
              "      --hover-bg-color: #434B5C;\n",
              "      --hover-fill-color: #FFFFFF;\n",
              "      --disabled-bg-color: #3B4455;\n",
              "      --disabled-fill-color: #666;\n",
              "  }\n",
              "\n",
              "  .colab-df-quickchart {\n",
              "    background-color: var(--bg-color);\n",
              "    border: none;\n",
              "    border-radius: 50%;\n",
              "    cursor: pointer;\n",
              "    display: none;\n",
              "    fill: var(--fill-color);\n",
              "    height: 32px;\n",
              "    padding: 0;\n",
              "    width: 32px;\n",
              "  }\n",
              "\n",
              "  .colab-df-quickchart:hover {\n",
              "    background-color: var(--hover-bg-color);\n",
              "    box-shadow: 0 1px 2px rgba(60, 64, 67, 0.3), 0 1px 3px 1px rgba(60, 64, 67, 0.15);\n",
              "    fill: var(--button-hover-fill-color);\n",
              "  }\n",
              "\n",
              "  .colab-df-quickchart-complete:disabled,\n",
              "  .colab-df-quickchart-complete:disabled:hover {\n",
              "    background-color: var(--disabled-bg-color);\n",
              "    fill: var(--disabled-fill-color);\n",
              "    box-shadow: none;\n",
              "  }\n",
              "\n",
              "  .colab-df-spinner {\n",
              "    border: 2px solid var(--fill-color);\n",
              "    border-color: transparent;\n",
              "    border-bottom-color: var(--fill-color);\n",
              "    animation:\n",
              "      spin 1s steps(1) infinite;\n",
              "  }\n",
              "\n",
              "  @keyframes spin {\n",
              "    0% {\n",
              "      border-color: transparent;\n",
              "      border-bottom-color: var(--fill-color);\n",
              "      border-left-color: var(--fill-color);\n",
              "    }\n",
              "    20% {\n",
              "      border-color: transparent;\n",
              "      border-left-color: var(--fill-color);\n",
              "      border-top-color: var(--fill-color);\n",
              "    }\n",
              "    30% {\n",
              "      border-color: transparent;\n",
              "      border-left-color: var(--fill-color);\n",
              "      border-top-color: var(--fill-color);\n",
              "      border-right-color: var(--fill-color);\n",
              "    }\n",
              "    40% {\n",
              "      border-color: transparent;\n",
              "      border-right-color: var(--fill-color);\n",
              "      border-top-color: var(--fill-color);\n",
              "    }\n",
              "    60% {\n",
              "      border-color: transparent;\n",
              "      border-right-color: var(--fill-color);\n",
              "    }\n",
              "    80% {\n",
              "      border-color: transparent;\n",
              "      border-right-color: var(--fill-color);\n",
              "      border-bottom-color: var(--fill-color);\n",
              "    }\n",
              "    90% {\n",
              "      border-color: transparent;\n",
              "      border-bottom-color: var(--fill-color);\n",
              "    }\n",
              "  }\n",
              "</style>\n",
              "\n",
              "  <script>\n",
              "    async function quickchart(key) {\n",
              "      const quickchartButtonEl =\n",
              "        document.querySelector('#' + key + ' button');\n",
              "      quickchartButtonEl.disabled = true;  // To prevent multiple clicks.\n",
              "      quickchartButtonEl.classList.add('colab-df-spinner');\n",
              "      try {\n",
              "        const charts = await google.colab.kernel.invokeFunction(\n",
              "            'suggestCharts', [key], {});\n",
              "      } catch (error) {\n",
              "        console.error('Error during call to suggestCharts:', error);\n",
              "      }\n",
              "      quickchartButtonEl.classList.remove('colab-df-spinner');\n",
              "      quickchartButtonEl.classList.add('colab-df-quickchart-complete');\n",
              "    }\n",
              "    (() => {\n",
              "      let quickchartButtonEl =\n",
              "        document.querySelector('#df-69d60a7b-454a-4180-bc27-be5a477c3c3f button');\n",
              "      quickchartButtonEl.style.display =\n",
              "        google.colab.kernel.accessAllowed ? 'block' : 'none';\n",
              "    })();\n",
              "  </script>\n",
              "</div>\n",
              "\n",
              "    </div>\n",
              "  </div>\n"
            ],
            "text/plain": [
              "   Value_co2_emissions_kt_by_country  \\\n",
              "0                          -0.211297   \n",
              "1                          -0.211334   \n",
              "2                          -0.207841   \n",
              "3                          -0.201214   \n",
              "4                          -0.204842   \n",
              "\n",
              "   Renewable energy share in the total final energy consumption (%)  \n",
              "0                                           0.426790                 \n",
              "1                                           0.447388                 \n",
              "2                                          -0.377521                 \n",
              "3                                          -0.666560                 \n",
              "4                                          -0.523053                 "
            ]
          },
          "execution_count": 35,
          "metadata": {},
          "output_type": "execute_result"
        }
      ],
      "source": [
        "data[target_variables].head()"
      ]
    },
    {
      "cell_type": "code",
      "execution_count": 36,
      "metadata": {
        "id": "m6FZGoa_RH1w"
      },
      "outputs": [],
      "source": [
        "from sklearn.model_selection import train_test_split\n",
        "\n",
        "X=data[target_features]\n",
        "y=data[target_variables[0]]\n",
        "\n",
        "X_train, X_test, y_train, y_test= train_test_split(X,y, random_state=42, test_size=0.2)"
      ]
    },
    {
      "cell_type": "code",
      "execution_count": 37,
      "metadata": {
        "id": "O5DXBJ5FRH1w"
      },
      "outputs": [],
      "source": [
        "neural_network=keras.Sequential([\n",
        "    layers.Input(shape=(2,)),\n",
        "    layers.Dense(32, activation='relu'),\n",
        "    layers.Dense(1)\n",
        "])"
      ]
    },
    {
      "cell_type": "code",
      "execution_count": 38,
      "metadata": {
        "id": "j2wZIlKARH1w"
      },
      "outputs": [],
      "source": [
        "neural_network.compile(optimizer='adam', loss='mean_squared_error')"
      ]
    },
    {
      "cell_type": "code",
      "execution_count": 39,
      "metadata": {
        "colab": {
          "base_uri": "https://localhost:8080/"
        },
        "id": "Z44QY1UwRH1w",
        "outputId": "1d13e71f-a6c1-43c2-efd8-3bfd354cca1c"
      },
      "outputs": [
        {
          "name": "stdout",
          "output_type": "stream",
          "text": [
            "Epoch 1/40\n",
            "71/71 [==============================] - 4s 5ms/step - loss: 0.6222\n",
            "Epoch 2/40\n",
            "71/71 [==============================] - 0s 4ms/step - loss: 0.3091\n",
            "Epoch 3/40\n",
            "71/71 [==============================] - 0s 4ms/step - loss: 0.1599\n",
            "Epoch 4/40\n",
            "71/71 [==============================] - 0s 5ms/step - loss: 0.0787\n",
            "Epoch 5/40\n",
            "71/71 [==============================] - 0s 5ms/step - loss: 0.0455\n",
            "Epoch 6/40\n",
            "71/71 [==============================] - 1s 11ms/step - loss: 0.0361\n",
            "Epoch 7/40\n",
            "71/71 [==============================] - 0s 5ms/step - loss: 0.0328\n",
            "Epoch 8/40\n",
            "71/71 [==============================] - 0s 4ms/step - loss: 0.0299\n",
            "Epoch 9/40\n",
            "71/71 [==============================] - 0s 7ms/step - loss: 0.0292\n",
            "Epoch 10/40\n",
            "71/71 [==============================] - 1s 7ms/step - loss: 0.0283\n",
            "Epoch 11/40\n",
            "71/71 [==============================] - 1s 8ms/step - loss: 0.0280\n",
            "Epoch 12/40\n",
            "71/71 [==============================] - 0s 6ms/step - loss: 0.0283\n",
            "Epoch 13/40\n",
            "71/71 [==============================] - 1s 10ms/step - loss: 0.0282\n",
            "Epoch 14/40\n",
            "71/71 [==============================] - 1s 7ms/step - loss: 0.0297\n",
            "Epoch 15/40\n",
            "71/71 [==============================] - 1s 8ms/step - loss: 0.0280\n",
            "Epoch 16/40\n",
            "71/71 [==============================] - 0s 6ms/step - loss: 0.0284\n",
            "Epoch 17/40\n",
            "71/71 [==============================] - 1s 8ms/step - loss: 0.0271\n",
            "Epoch 18/40\n",
            "71/71 [==============================] - 0s 5ms/step - loss: 0.0275\n",
            "Epoch 19/40\n",
            "71/71 [==============================] - 0s 4ms/step - loss: 0.0274\n",
            "Epoch 20/40\n",
            "71/71 [==============================] - 0s 5ms/step - loss: 0.0285\n",
            "Epoch 21/40\n",
            "71/71 [==============================] - 0s 6ms/step - loss: 0.0272\n",
            "Epoch 22/40\n",
            "71/71 [==============================] - 0s 5ms/step - loss: 0.0262\n",
            "Epoch 23/40\n",
            "71/71 [==============================] - 0s 5ms/step - loss: 0.0265\n",
            "Epoch 24/40\n",
            "71/71 [==============================] - 0s 4ms/step - loss: 0.0266\n",
            "Epoch 25/40\n",
            "71/71 [==============================] - 0s 4ms/step - loss: 0.0263\n",
            "Epoch 26/40\n",
            "71/71 [==============================] - 0s 5ms/step - loss: 0.0263\n",
            "Epoch 27/40\n",
            "71/71 [==============================] - 0s 5ms/step - loss: 0.0273\n",
            "Epoch 28/40\n",
            "71/71 [==============================] - 0s 4ms/step - loss: 0.0280\n",
            "Epoch 29/40\n",
            "71/71 [==============================] - 0s 4ms/step - loss: 0.0271\n",
            "Epoch 30/40\n",
            "71/71 [==============================] - 0s 3ms/step - loss: 0.0272\n",
            "Epoch 31/40\n",
            "71/71 [==============================] - 0s 2ms/step - loss: 0.0271\n",
            "Epoch 32/40\n",
            "71/71 [==============================] - 0s 2ms/step - loss: 0.0286\n",
            "Epoch 33/40\n",
            "71/71 [==============================] - 0s 3ms/step - loss: 0.0268\n",
            "Epoch 34/40\n",
            "71/71 [==============================] - 0s 2ms/step - loss: 0.0264\n",
            "Epoch 35/40\n",
            "71/71 [==============================] - 0s 3ms/step - loss: 0.0276\n",
            "Epoch 36/40\n",
            "71/71 [==============================] - 0s 2ms/step - loss: 0.0267\n",
            "Epoch 37/40\n",
            "71/71 [==============================] - 0s 2ms/step - loss: 0.0279\n",
            "Epoch 38/40\n",
            "71/71 [==============================] - 0s 2ms/step - loss: 0.0269\n",
            "Epoch 39/40\n",
            "71/71 [==============================] - 0s 2ms/step - loss: 0.0266\n",
            "Epoch 40/40\n",
            "71/71 [==============================] - 0s 3ms/step - loss: 0.0266\n"
          ]
        },
        {
          "data": {
            "text/plain": [
              "<keras.src.callbacks.History at 0x7ed27d839cf0>"
            ]
          },
          "execution_count": 39,
          "metadata": {},
          "output_type": "execute_result"
        }
      ],
      "source": [
        "neural_network.fit(X_train, y_train, epochs=40, batch_size=32)"
      ]
    },
    {
      "cell_type": "code",
      "execution_count": 40,
      "metadata": {
        "colab": {
          "base_uri": "https://localhost:8080/"
        },
        "id": "UFPxoM2rRH1x",
        "outputId": "2d8b6f2c-c284-4b1e-d31f-9a3c0066d7a6"
      },
      "outputs": [
        {
          "name": "stdout",
          "output_type": "stream",
          "text": [
            "18/18 [==============================] - 0s 1ms/step\n",
            "Mean squared error (same as neural_network.evaluate()) is: 0.017032467871604427\n",
            "Mean absolute error is: 0.04510691702510425\n",
            "R2 score error is: 0.9811151789435855\n"
          ]
        }
      ],
      "source": [
        "from sklearn.metrics import mean_absolute_error\n",
        "from sklearn.metrics import mean_squared_error\n",
        "from sklearn.metrics import r2_score\n",
        "\n",
        "y_pred=neural_network.predict(X_test)\n",
        "\n",
        "# calculating the scores based on the performance of the neural network\n",
        "\n",
        "mse = mean_squared_error(y_test, y_pred)\n",
        "mae = mean_absolute_error(y_test, y_pred)\n",
        "r2 = r2_score(y_test, y_pred)\n",
        "\n",
        "\n",
        "print(f\"Mean squared error (same as neural_network.evaluate()) is: {mse}\")\n",
        "print(f\"Mean absolute error is: {mae}\")\n",
        "print(f\"R2 score error is: {r2}\")"
      ]
    },
    {
      "cell_type": "code",
      "execution_count": 41,
      "metadata": {
        "colab": {
          "base_uri": "https://localhost:8080/"
        },
        "id": "smo1cQpBRH1x",
        "outputId": "59d8d674-d2ea-4d28-c49d-7d96f0d9033b"
      },
      "outputs": [
        {
          "name": "stdout",
          "output_type": "stream",
          "text": [
            "18/18 [==============================] - 0s 2ms/step - loss: 0.0170\n",
            "Test Loss: 0.0170\n"
          ]
        }
      ],
      "source": [
        "test_loss = neural_network.evaluate(X_test, y_test)\n",
        "print(f\"Test Loss: {test_loss:.4f}\")"
      ]
    }
  ],
  "metadata": {
    "accelerator": "GPU",
    "colab": {
      "gpuType": "T4",
      "provenance": []
    },
    "kernelspec": {
      "display_name": "wang",
      "language": "python",
      "name": "python3"
    },
    "language_info": {
      "codemirror_mode": {
        "name": "ipython",
        "version": 3
      },
      "file_extension": ".py",
      "mimetype": "text/x-python",
      "name": "python",
      "nbconvert_exporter": "python",
      "pygments_lexer": "ipython3",
      "version": "3.8.18"
    }
  },
  "nbformat": 4,
  "nbformat_minor": 0
}
